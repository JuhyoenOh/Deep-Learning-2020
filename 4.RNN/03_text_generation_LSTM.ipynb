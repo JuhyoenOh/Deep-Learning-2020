{
 "cells": [
  {
   "cell_type": "code",
   "execution_count": 1,
   "metadata": {},
   "outputs": [
    {
     "name": "stderr",
     "output_type": "stream",
     "text": [
      "Using TensorFlow backend.\n"
     ]
    }
   ],
   "source": [
    "import numpy as np\n",
    "import pandas as pd\n",
    "from string import punctuation\n",
    "\n",
    "from tensorflow import keras\n",
    "from keras.preprocessing.text import Tokenizer\n",
    "from keras.preprocessing.sequence import pad_sequences\n",
    "from keras.utils import to_categorical"
   ]
  },
  {
   "cell_type": "code",
   "execution_count": 4,
   "metadata": {},
   "outputs": [
    {
     "data": {
      "text/html": [
       "<div>\n",
       "<style scoped>\n",
       "    .dataframe tbody tr th:only-of-type {\n",
       "        vertical-align: middle;\n",
       "    }\n",
       "\n",
       "    .dataframe tbody tr th {\n",
       "        vertical-align: top;\n",
       "    }\n",
       "\n",
       "    .dataframe thead th {\n",
       "        text-align: right;\n",
       "    }\n",
       "</style>\n",
       "<table border=\"1\" class=\"dataframe\">\n",
       "  <thead>\n",
       "    <tr style=\"text-align: right;\">\n",
       "      <th></th>\n",
       "      <th>articleID</th>\n",
       "      <th>articleWordCount</th>\n",
       "      <th>byline</th>\n",
       "      <th>documentType</th>\n",
       "      <th>headline</th>\n",
       "      <th>keywords</th>\n",
       "      <th>multimedia</th>\n",
       "      <th>newDesk</th>\n",
       "      <th>printPage</th>\n",
       "      <th>pubDate</th>\n",
       "      <th>sectionName</th>\n",
       "      <th>snippet</th>\n",
       "      <th>source</th>\n",
       "      <th>typeOfMaterial</th>\n",
       "      <th>webURL</th>\n",
       "    </tr>\n",
       "  </thead>\n",
       "  <tbody>\n",
       "    <tr>\n",
       "      <th>0</th>\n",
       "      <td>5adf6684068401528a2aa69b</td>\n",
       "      <td>781</td>\n",
       "      <td>By JOHN BRANCH</td>\n",
       "      <td>article</td>\n",
       "      <td>Former N.F.L. Cheerleadersâ Settlement Offer...</td>\n",
       "      <td>['Workplace Hazards and Violations', 'Football...</td>\n",
       "      <td>68</td>\n",
       "      <td>Sports</td>\n",
       "      <td>0</td>\n",
       "      <td>2018-04-24 17:16:49</td>\n",
       "      <td>Pro Football</td>\n",
       "      <td>âI understand that they could meet with us, ...</td>\n",
       "      <td>The New York Times</td>\n",
       "      <td>News</td>\n",
       "      <td>https://www.nytimes.com/2018/04/24/sports/foot...</td>\n",
       "    </tr>\n",
       "    <tr>\n",
       "      <th>1</th>\n",
       "      <td>5adf653f068401528a2aa697</td>\n",
       "      <td>656</td>\n",
       "      <td>By LISA FRIEDMAN</td>\n",
       "      <td>article</td>\n",
       "      <td>E.P.A. to Unveil a New Rule. Its Effect: Less ...</td>\n",
       "      <td>['Environmental Protection Agency', 'Pruitt, S...</td>\n",
       "      <td>68</td>\n",
       "      <td>Climate</td>\n",
       "      <td>0</td>\n",
       "      <td>2018-04-24 17:11:21</td>\n",
       "      <td>Unknown</td>\n",
       "      <td>The agency plans to publish a new regulation T...</td>\n",
       "      <td>The New York Times</td>\n",
       "      <td>News</td>\n",
       "      <td>https://www.nytimes.com/2018/04/24/climate/epa...</td>\n",
       "    </tr>\n",
       "    <tr>\n",
       "      <th>2</th>\n",
       "      <td>5adf4626068401528a2aa628</td>\n",
       "      <td>2427</td>\n",
       "      <td>By PETE WELLS</td>\n",
       "      <td>article</td>\n",
       "      <td>The New Noma, Explained</td>\n",
       "      <td>['Restaurants', 'Noma (Copenhagen, Restaurant)...</td>\n",
       "      <td>66</td>\n",
       "      <td>Dining</td>\n",
       "      <td>0</td>\n",
       "      <td>2018-04-24 14:58:44</td>\n",
       "      <td>Unknown</td>\n",
       "      <td>Whatâs it like to eat at the second incarnat...</td>\n",
       "      <td>The New York Times</td>\n",
       "      <td>News</td>\n",
       "      <td>https://www.nytimes.com/2018/04/24/dining/noma...</td>\n",
       "    </tr>\n",
       "    <tr>\n",
       "      <th>3</th>\n",
       "      <td>5adf40d2068401528a2aa619</td>\n",
       "      <td>626</td>\n",
       "      <td>By JULIE HIRSCHFELD DAVIS and PETER BAKER</td>\n",
       "      <td>article</td>\n",
       "      <td>Unknown</td>\n",
       "      <td>['Macron, Emmanuel (1977- )', 'Trump, Donald J...</td>\n",
       "      <td>68</td>\n",
       "      <td>Washington</td>\n",
       "      <td>0</td>\n",
       "      <td>2018-04-24 14:35:57</td>\n",
       "      <td>Europe</td>\n",
       "      <td>President Trump welcomed President Emmanuel Ma...</td>\n",
       "      <td>The New York Times</td>\n",
       "      <td>News</td>\n",
       "      <td>https://www.nytimes.com/2018/04/24/world/europ...</td>\n",
       "    </tr>\n",
       "    <tr>\n",
       "      <th>4</th>\n",
       "      <td>5adf3d64068401528a2aa60f</td>\n",
       "      <td>815</td>\n",
       "      <td>By IAN AUSTEN and DAN BILEFSKY</td>\n",
       "      <td>article</td>\n",
       "      <td>Unknown</td>\n",
       "      <td>['Toronto, Ontario, Attack (April, 2018)', 'Mu...</td>\n",
       "      <td>68</td>\n",
       "      <td>Foreign</td>\n",
       "      <td>0</td>\n",
       "      <td>2018-04-24 14:21:21</td>\n",
       "      <td>Canada</td>\n",
       "      <td>Alek Minassian, 25, a resident of Torontoâs ...</td>\n",
       "      <td>The New York Times</td>\n",
       "      <td>News</td>\n",
       "      <td>https://www.nytimes.com/2018/04/24/world/canad...</td>\n",
       "    </tr>\n",
       "  </tbody>\n",
       "</table>\n",
       "</div>"
      ],
      "text/plain": [
       "                  articleID  articleWordCount  \\\n",
       "0  5adf6684068401528a2aa69b               781   \n",
       "1  5adf653f068401528a2aa697               656   \n",
       "2  5adf4626068401528a2aa628              2427   \n",
       "3  5adf40d2068401528a2aa619               626   \n",
       "4  5adf3d64068401528a2aa60f               815   \n",
       "\n",
       "                                      byline documentType  \\\n",
       "0                             By JOHN BRANCH      article   \n",
       "1                           By LISA FRIEDMAN      article   \n",
       "2                              By PETE WELLS      article   \n",
       "3  By JULIE HIRSCHFELD DAVIS and PETER BAKER      article   \n",
       "4             By IAN AUSTEN and DAN BILEFSKY      article   \n",
       "\n",
       "                                            headline  \\\n",
       "0  Former N.F.L. Cheerleadersâ Settlement Offer...   \n",
       "1  E.P.A. to Unveil a New Rule. Its Effect: Less ...   \n",
       "2                            The New Noma, Explained   \n",
       "3                                            Unknown   \n",
       "4                                            Unknown   \n",
       "\n",
       "                                            keywords  multimedia     newDesk  \\\n",
       "0  ['Workplace Hazards and Violations', 'Football...          68      Sports   \n",
       "1  ['Environmental Protection Agency', 'Pruitt, S...          68     Climate   \n",
       "2  ['Restaurants', 'Noma (Copenhagen, Restaurant)...          66      Dining   \n",
       "3  ['Macron, Emmanuel (1977- )', 'Trump, Donald J...          68  Washington   \n",
       "4  ['Toronto, Ontario, Attack (April, 2018)', 'Mu...          68     Foreign   \n",
       "\n",
       "   printPage              pubDate   sectionName  \\\n",
       "0          0  2018-04-24 17:16:49  Pro Football   \n",
       "1          0  2018-04-24 17:11:21       Unknown   \n",
       "2          0  2018-04-24 14:58:44       Unknown   \n",
       "3          0  2018-04-24 14:35:57        Europe   \n",
       "4          0  2018-04-24 14:21:21        Canada   \n",
       "\n",
       "                                             snippet              source  \\\n",
       "0  âI understand that they could meet with us, ...  The New York Times   \n",
       "1  The agency plans to publish a new regulation T...  The New York Times   \n",
       "2  Whatâs it like to eat at the second incarnat...  The New York Times   \n",
       "3  President Trump welcomed President Emmanuel Ma...  The New York Times   \n",
       "4  Alek Minassian, 25, a resident of Torontoâs ...  The New York Times   \n",
       "\n",
       "  typeOfMaterial                                             webURL  \n",
       "0           News  https://www.nytimes.com/2018/04/24/sports/foot...  \n",
       "1           News  https://www.nytimes.com/2018/04/24/climate/epa...  \n",
       "2           News  https://www.nytimes.com/2018/04/24/dining/noma...  \n",
       "3           News  https://www.nytimes.com/2018/04/24/world/europ...  \n",
       "4           News  https://www.nytimes.com/2018/04/24/world/canad...  "
      ]
     },
     "execution_count": 4,
     "metadata": {},
     "output_type": "execute_result"
    }
   ],
   "source": [
    "df=pd.read_csv('data/ArticlesApril2018.csv', encoding = 'latin')\n",
    "df.head()"
   ]
  },
  {
   "cell_type": "code",
   "execution_count": 5,
   "metadata": {},
   "outputs": [
    {
     "name": "stdout",
     "output_type": "stream",
     "text": [
      "열의 개수:  15\n",
      "Index(['articleID', 'articleWordCount', 'byline', 'documentType', 'headline',\n",
      "       'keywords', 'multimedia', 'newDesk', 'printPage', 'pubDate',\n",
      "       'sectionName', 'snippet', 'source', 'typeOfMaterial', 'webURL'],\n",
      "      dtype='object')\n"
     ]
    }
   ],
   "source": [
    "print('열의 개수: ', len(df.columns))\n",
    "print(df.columns)"
   ]
  },
  {
   "cell_type": "code",
   "execution_count": 7,
   "metadata": {},
   "outputs": [
    {
     "data": {
      "text/plain": [
       "False"
      ]
     },
     "execution_count": 7,
     "metadata": {},
     "output_type": "execute_result"
    }
   ],
   "source": [
    "# headline 열의 데이터만 사용, Null 검사\n",
    "df['headline'].isnull().values.any()"
   ]
  },
  {
   "cell_type": "code",
   "execution_count": 8,
   "metadata": {},
   "outputs": [
    {
     "data": {
      "text/plain": [
       "['Former N.F.L. Cheerleadersâ\\x80\\x99 Settlement Offer: $1 and a Meeting With Goodell',\n",
       " 'E.P.A. to Unveil a New Rule. Its Effect: Less Science in Policymaking.',\n",
       " 'The New Noma, Explained',\n",
       " 'Unknown',\n",
       " 'Unknown']"
      ]
     },
     "execution_count": 8,
     "metadata": {},
     "output_type": "execute_result"
    }
   ],
   "source": [
    "# headline 열의 데이터로 리스트 생성\n",
    "headline = [title for title in df.headline.values]\n",
    "headline[:5]"
   ]
  },
  {
   "cell_type": "code",
   "execution_count": 9,
   "metadata": {},
   "outputs": [
    {
     "data": {
      "text/plain": [
       "1324"
      ]
     },
     "execution_count": 9,
     "metadata": {},
     "output_type": "execute_result"
    }
   ],
   "source": [
    "len(headline)"
   ]
  },
  {
   "cell_type": "code",
   "execution_count": 10,
   "metadata": {},
   "outputs": [
    {
     "data": {
      "text/plain": [
       "1214"
      ]
     },
     "execution_count": 10,
     "metadata": {},
     "output_type": "execute_result"
    }
   ],
   "source": [
    "# 노이즈 데이터('Unknown') 제거\n",
    "headline = [title for title in headline if title != 'Unknown']\n",
    "len(headline)"
   ]
  },
  {
   "cell_type": "code",
   "execution_count": 11,
   "metadata": {},
   "outputs": [],
   "source": [
    "# 구두점 제거와 소문자화를 위한 함수\n",
    "def repreprocessing(s):\n",
    "    s=s.encode(\"utf8\").decode(\"ascii\",'ignore')\n",
    "    return ''.join(c for c in s if c not in punctuation).lower()"
   ]
  },
  {
   "cell_type": "code",
   "execution_count": 12,
   "metadata": {},
   "outputs": [
    {
     "data": {
      "text/plain": [
       "['former nfl cheerleaders settlement offer 1 and a meeting with goodell',\n",
       " 'epa to unveil a new rule its effect less science in policymaking',\n",
       " 'the new noma explained',\n",
       " 'how a bag of texas dirt  became a times tradition',\n",
       " 'is school a place for selfexpression']"
      ]
     },
     "execution_count": 12,
     "metadata": {},
     "output_type": "execute_result"
    }
   ],
   "source": [
    "text = [repreprocessing(x) for x in headline]\n",
    "text[:5]"
   ]
  },
  {
   "cell_type": "code",
   "execution_count": 13,
   "metadata": {},
   "outputs": [
    {
     "name": "stdout",
     "output_type": "stream",
     "text": [
      "단어 집합의 크기 : 3494\n"
     ]
    }
   ],
   "source": [
    "# 단어 집합(vocabulary)을 만들고 크기를 확인\n",
    "t = Tokenizer()\n",
    "t.fit_on_texts(text)\n",
    "vocab_size = len(t.word_index) + 1\n",
    "print('단어 집합의 크기 : %d' % vocab_size)"
   ]
  },
  {
   "cell_type": "code",
   "execution_count": 14,
   "metadata": {},
   "outputs": [
    {
     "data": {
      "text/plain": [
       "[[99, 269],\n",
       " [99, 269, 371],\n",
       " [99, 269, 371, 1115],\n",
       " [99, 269, 371, 1115, 582],\n",
       " [99, 269, 371, 1115, 582, 52],\n",
       " [99, 269, 371, 1115, 582, 52, 7],\n",
       " [99, 269, 371, 1115, 582, 52, 7, 2],\n",
       " [99, 269, 371, 1115, 582, 52, 7, 2, 372],\n",
       " [99, 269, 371, 1115, 582, 52, 7, 2, 372, 10],\n",
       " [99, 269, 371, 1115, 582, 52, 7, 2, 372, 10, 1116],\n",
       " [100, 3]]"
      ]
     },
     "execution_count": 14,
     "metadata": {},
     "output_type": "execute_result"
    }
   ],
   "source": [
    "sequences = []\n",
    "for line in text: # 1,214 개의 샘플에 대해서 샘플을 1개씩 가져온다.\n",
    "    encoded = t.texts_to_sequences([line])[0] # 각 샘플에 대한 정수 인코딩\n",
    "    for i in range(1, len(encoded)):\n",
    "        sequence = encoded[:i+1]\n",
    "        sequences.append(sequence)\n",
    "\n",
    "sequences[:11] # 11개의 샘플 출력"
   ]
  },
  {
   "cell_type": "code",
   "execution_count": 15,
   "metadata": {},
   "outputs": [
    {
     "name": "stdout",
     "output_type": "stream",
     "text": [
      "빈도수 상위 1번 단어 : the\n",
      "빈도수 상위 582번 단어 : offer\n"
     ]
    }
   ],
   "source": [
    "index_to_word = {}\n",
    "for key, value in t.word_index.items(): # 인덱스를 단어로 바꾸기 위해 index_to_word를 생성\n",
    "    index_to_word[value] = key\n",
    "\n",
    "print('빈도수 상위 1번 단어 :', index_to_word[1])\n",
    "print('빈도수 상위 582번 단어 :', index_to_word[582])"
   ]
  },
  {
   "cell_type": "code",
   "execution_count": 16,
   "metadata": {},
   "outputs": [
    {
     "name": "stdout",
     "output_type": "stream",
     "text": [
      "샘플의 최대 길이 : 24\n"
     ]
    }
   ],
   "source": [
    "\n",
    "max_len=max(len(s) for s in sequences)\n",
    "print('샘플의 최대 길이 :', max_len)"
   ]
  },
  {
   "cell_type": "code",
   "execution_count": 17,
   "metadata": {},
   "outputs": [
    {
     "name": "stdout",
     "output_type": "stream",
     "text": [
      "[[   0    0    0    0    0    0    0    0    0    0    0    0    0    0\n",
      "     0    0    0    0    0    0    0    0   99  269]\n",
      " [   0    0    0    0    0    0    0    0    0    0    0    0    0    0\n",
      "     0    0    0    0    0    0    0   99  269  371]\n",
      " [   0    0    0    0    0    0    0    0    0    0    0    0    0    0\n",
      "     0    0    0    0    0    0   99  269  371 1115]]\n"
     ]
    }
   ],
   "source": [
    "# 전체 샘플의 길이를 24(가장 긴 샘플의 길이)로 패딩\n",
    "# 'pre' 옵션을 주면 앞을 0으로 패딩\n",
    "sequences = pad_sequences(sequences, maxlen=max_len, padding='pre')\n",
    "print(sequences[:3])"
   ]
  },
  {
   "cell_type": "code",
   "execution_count": 18,
   "metadata": {},
   "outputs": [],
   "source": [
    "X = sequences[:,:-1]\n",
    "y = sequences[:,-1]"
   ]
  },
  {
   "cell_type": "code",
   "execution_count": 19,
   "metadata": {},
   "outputs": [],
   "source": [
    "# 레이블 데이터 y에 대해서 원-핫 인코딩을 수행\n",
    "y = to_categorical(y, num_classes=vocab_size)"
   ]
  },
  {
   "cell_type": "code",
   "execution_count": 20,
   "metadata": {},
   "outputs": [
    {
     "data": {
      "text/plain": [
       "((7803, 23), (7803, 3494))"
      ]
     },
     "execution_count": 20,
     "metadata": {},
     "output_type": "execute_result"
    }
   ],
   "source": [
    "X.shape, y.shape"
   ]
  },
  {
   "cell_type": "code",
   "execution_count": 21,
   "metadata": {},
   "outputs": [],
   "source": [
    "from tensorflow import keras\n",
    "from keras.models import Sequential\n",
    "from keras.layers import Embedding, Dense, LSTM"
   ]
  },
  {
   "cell_type": "code",
   "execution_count": 22,
   "metadata": {},
   "outputs": [],
   "source": [
    "# 임베딩 벡터는 10차원, 은닉 상태 크기는 128\n",
    "embedding = Embedding(vocab_size, 10, input_length=max_len-1, name=\"Embedding_Layer\")\n",
    "lstm = LSTM(128, name=\"LSTM_Layer\")\n",
    "output = Dense(vocab_size, activation='softmax', name=\"Output_Layer\")"
   ]
  },
  {
   "cell_type": "code",
   "execution_count": 23,
   "metadata": {},
   "outputs": [
    {
     "name": "stdout",
     "output_type": "stream",
     "text": [
      "Model: \"sequential_1\"\n",
      "_________________________________________________________________\n",
      "Layer (type)                 Output Shape              Param #   \n",
      "=================================================================\n",
      "Embedding_Layer (Embedding)  (None, 23, 10)            34940     \n",
      "_________________________________________________________________\n",
      "LSTM_Layer (LSTM)            (None, 128)               71168     \n",
      "_________________________________________________________________\n",
      "Output_Layer (Dense)         (None, 3494)              450726    \n",
      "=================================================================\n",
      "Total params: 556,834\n",
      "Trainable params: 556,834\n",
      "Non-trainable params: 0\n",
      "_________________________________________________________________\n"
     ]
    }
   ],
   "source": [
    "model = Sequential()\n",
    "model.add(embedding)\n",
    "model.add(lstm)\n",
    "model.add(output)\n",
    "model.summary()"
   ]
  },
  {
   "cell_type": "code",
   "execution_count": 24,
   "metadata": {},
   "outputs": [],
   "source": [
    "model.compile(loss='categorical_crossentropy', \n",
    "              optimizer='adam', metrics=['accuracy'])"
   ]
  },
  {
   "cell_type": "code",
   "execution_count": 25,
   "metadata": {},
   "outputs": [
    {
     "name": "stderr",
     "output_type": "stream",
     "text": [
      "C:\\ProgramData\\Anaconda3\\envs\\tf2\\lib\\site-packages\\tensorflow_core\\python\\framework\\indexed_slices.py:433: UserWarning: Converting sparse IndexedSlices to a dense Tensor of unknown shape. This may consume a large amount of memory.\n",
      "  \"Converting sparse IndexedSlices to a dense Tensor of unknown shape. \"\n"
     ]
    },
    {
     "name": "stdout",
     "output_type": "stream",
     "text": [
      "Epoch 1/200\n",
      " - 4s - loss: 7.6591 - accuracy: 0.0308\n",
      "Epoch 2/200\n",
      " - 3s - loss: 7.1141 - accuracy: 0.0299\n",
      "Epoch 3/200\n",
      " - 3s - loss: 6.9799 - accuracy: 0.0329\n",
      "Epoch 4/200\n",
      " - 3s - loss: 6.8526 - accuracy: 0.0391\n",
      "Epoch 5/200\n",
      " - 3s - loss: 6.6961 - accuracy: 0.0450\n",
      "Epoch 6/200\n",
      " - 3s - loss: 6.5151 - accuracy: 0.0478\n",
      "Epoch 7/200\n",
      " - 3s - loss: 6.3139 - accuracy: 0.0537\n",
      "Epoch 8/200\n",
      " - 3s - loss: 6.1064 - accuracy: 0.0555\n",
      "Epoch 9/200\n",
      " - 3s - loss: 5.9014 - accuracy: 0.0632\n",
      "Epoch 10/200\n",
      " - 3s - loss: 5.7085 - accuracy: 0.0664\n",
      "Epoch 11/200\n",
      " - 3s - loss: 5.5244 - accuracy: 0.0739\n",
      "Epoch 12/200\n",
      " - 3s - loss: 5.3537 - accuracy: 0.0788\n",
      "Epoch 13/200\n",
      " - 3s - loss: 5.1962 - accuracy: 0.0862\n",
      "Epoch 14/200\n",
      " - 3s - loss: 5.0445 - accuracy: 0.0918\n",
      "Epoch 15/200\n",
      " - 3s - loss: 4.9027 - accuracy: 0.1044\n",
      "Epoch 16/200\n",
      " - 3s - loss: 4.7661 - accuracy: 0.1129\n",
      "Epoch 17/200\n",
      " - 3s - loss: 4.6342 - accuracy: 0.1275\n",
      "Epoch 18/200\n",
      " - 3s - loss: 4.5076 - accuracy: 0.1392\n",
      "Epoch 19/200\n",
      " - 3s - loss: 4.3842 - accuracy: 0.1540\n",
      "Epoch 20/200\n",
      " - 3s - loss: 4.2641 - accuracy: 0.1737\n",
      "Epoch 21/200\n",
      " - 3s - loss: 4.1502 - accuracy: 0.1888\n",
      "Epoch 22/200\n",
      " - 3s - loss: 4.0398 - accuracy: 0.2052\n",
      "Epoch 23/200\n",
      " - 3s - loss: 3.9304 - accuracy: 0.2267\n",
      "Epoch 24/200\n",
      " - 3s - loss: 3.8269 - accuracy: 0.2398\n",
      "Epoch 25/200\n",
      " - 3s - loss: 3.7262 - accuracy: 0.2577\n",
      "Epoch 26/200\n",
      " - 3s - loss: 3.6266 - accuracy: 0.2790\n",
      "Epoch 27/200\n",
      " - 3s - loss: 3.5325 - accuracy: 0.2962\n",
      "Epoch 28/200\n",
      " - 3s - loss: 3.4416 - accuracy: 0.3105\n",
      "Epoch 29/200\n",
      " - 3s - loss: 3.3520 - accuracy: 0.3260\n",
      "Epoch 30/200\n",
      " - 3s - loss: 3.2682 - accuracy: 0.3436\n",
      "Epoch 31/200\n",
      " - 3s - loss: 3.1857 - accuracy: 0.3519\n",
      "Epoch 32/200\n",
      " - 3s - loss: 3.1060 - accuracy: 0.3706\n",
      "Epoch 33/200\n",
      " - 3s - loss: 3.0313 - accuracy: 0.3819\n",
      "Epoch 34/200\n",
      " - 3s - loss: 2.9579 - accuracy: 0.3951\n",
      "Epoch 35/200\n",
      " - 3s - loss: 2.8869 - accuracy: 0.4092\n",
      "Epoch 36/200\n",
      " - 3s - loss: 2.8188 - accuracy: 0.4215\n",
      "Epoch 37/200\n",
      " - 3s - loss: 2.7498 - accuracy: 0.4362\n",
      "Epoch 38/200\n",
      " - 3s - loss: 2.6874 - accuracy: 0.4528\n",
      "Epoch 39/200\n",
      " - 3s - loss: 2.6251 - accuracy: 0.4608\n",
      "Epoch 40/200\n",
      " - 3s - loss: 2.5622 - accuracy: 0.4756\n",
      "Epoch 41/200\n",
      " - 3s - loss: 2.5037 - accuracy: 0.4907\n",
      "Epoch 42/200\n",
      " - 3s - loss: 2.4463 - accuracy: 0.4997\n",
      "Epoch 43/200\n",
      " - 3s - loss: 2.3892 - accuracy: 0.5112\n",
      "Epoch 44/200\n",
      " - 3s - loss: 2.3377 - accuracy: 0.5210\n",
      "Epoch 45/200\n",
      " - 3s - loss: 2.2820 - accuracy: 0.5342\n",
      "Epoch 46/200\n",
      " - 3s - loss: 2.2298 - accuracy: 0.5427\n",
      "Epoch 47/200\n",
      " - 3s - loss: 2.1802 - accuracy: 0.5566\n",
      "Epoch 48/200\n",
      " - 3s - loss: 2.1305 - accuracy: 0.5663\n",
      "Epoch 49/200\n",
      " - 3s - loss: 2.0811 - accuracy: 0.5795\n",
      "Epoch 50/200\n",
      " - 3s - loss: 2.0325 - accuracy: 0.5927\n",
      "Epoch 51/200\n",
      " - 3s - loss: 1.9880 - accuracy: 0.6003\n",
      "Epoch 52/200\n",
      " - 3s - loss: 1.9419 - accuracy: 0.6105\n",
      "Epoch 53/200\n",
      " - 3s - loss: 1.8965 - accuracy: 0.6182\n",
      "Epoch 54/200\n",
      " - 3s - loss: 1.8522 - accuracy: 0.6299\n",
      "Epoch 55/200\n",
      " - 3s - loss: 1.8076 - accuracy: 0.6403\n",
      "Epoch 56/200\n",
      " - 3s - loss: 1.7663 - accuracy: 0.6487\n",
      "Epoch 57/200\n",
      " - 3s - loss: 1.7258 - accuracy: 0.6556\n",
      "Epoch 58/200\n",
      " - 3s - loss: 1.6845 - accuracy: 0.6641\n",
      "Epoch 59/200\n",
      " - 3s - loss: 1.6431 - accuracy: 0.6772\n",
      "Epoch 60/200\n",
      " - 3s - loss: 1.6067 - accuracy: 0.6835\n",
      "Epoch 61/200\n",
      " - 3s - loss: 1.5722 - accuracy: 0.6883\n",
      "Epoch 62/200\n",
      " - 3s - loss: 1.5315 - accuracy: 0.7001\n",
      "Epoch 63/200\n",
      " - 3s - loss: 1.4930 - accuracy: 0.7092\n",
      "Epoch 64/200\n",
      " - 3s - loss: 1.4596 - accuracy: 0.7134\n",
      "Epoch 65/200\n",
      " - 3s - loss: 1.4241 - accuracy: 0.7228\n",
      "Epoch 66/200\n",
      " - 3s - loss: 1.3891 - accuracy: 0.7300\n",
      "Epoch 67/200\n",
      " - 3s - loss: 1.3591 - accuracy: 0.7382\n",
      "Epoch 68/200\n",
      " - 3s - loss: 1.3269 - accuracy: 0.7420\n",
      "Epoch 69/200\n",
      " - 3s - loss: 1.2916 - accuracy: 0.7497\n",
      "Epoch 70/200\n",
      " - 3s - loss: 1.2586 - accuracy: 0.7597\n",
      "Epoch 71/200\n",
      " - 3s - loss: 1.2292 - accuracy: 0.7643\n",
      "Epoch 72/200\n",
      " - 3s - loss: 1.2004 - accuracy: 0.7718\n",
      "Epoch 73/200\n",
      " - 3s - loss: 1.1701 - accuracy: 0.7748\n",
      "Epoch 74/200\n",
      " - 3s - loss: 1.1429 - accuracy: 0.7789\n",
      "Epoch 75/200\n",
      " - 3s - loss: 1.1144 - accuracy: 0.7876\n",
      "Epoch 76/200\n",
      " - 3s - loss: 1.0868 - accuracy: 0.7912\n",
      "Epoch 77/200\n",
      " - 3s - loss: 1.0610 - accuracy: 0.8008\n",
      "Epoch 78/200\n",
      " - 3s - loss: 1.0351 - accuracy: 0.8002\n",
      "Epoch 79/200\n",
      " - 3s - loss: 1.0095 - accuracy: 0.8092\n",
      "Epoch 80/200\n",
      " - 3s - loss: 0.9859 - accuracy: 0.8103\n",
      "Epoch 81/200\n",
      " - 3s - loss: 0.9605 - accuracy: 0.8144\n",
      "Epoch 82/200\n",
      " - 3s - loss: 0.9394 - accuracy: 0.8219\n",
      "Epoch 83/200\n",
      " - 3s - loss: 0.9163 - accuracy: 0.8248\n",
      "Epoch 84/200\n",
      " - 3s - loss: 0.8956 - accuracy: 0.8297\n",
      "Epoch 85/200\n",
      " - 3s - loss: 0.8763 - accuracy: 0.8324\n",
      "Epoch 86/200\n",
      " - 3s - loss: 0.8527 - accuracy: 0.8358\n",
      "Epoch 87/200\n",
      " - 3s - loss: 0.8316 - accuracy: 0.8397\n",
      "Epoch 88/200\n",
      " - 3s - loss: 0.8126 - accuracy: 0.8420\n",
      "Epoch 89/200\n",
      " - 3s - loss: 0.7941 - accuracy: 0.8474\n",
      "Epoch 90/200\n",
      " - 3s - loss: 0.7776 - accuracy: 0.8478\n",
      "Epoch 91/200\n",
      " - 3s - loss: 0.7599 - accuracy: 0.8534\n",
      "Epoch 92/200\n",
      " - 3s - loss: 0.7445 - accuracy: 0.8539\n",
      "Epoch 93/200\n",
      " - 3s - loss: 0.7298 - accuracy: 0.8581\n",
      "Epoch 94/200\n",
      " - 3s - loss: 0.7057 - accuracy: 0.8629\n",
      "Epoch 95/200\n",
      " - 3s - loss: 0.6918 - accuracy: 0.8635\n",
      "Epoch 96/200\n",
      " - 3s - loss: 0.6748 - accuracy: 0.8681\n",
      "Epoch 97/200\n",
      " - 3s - loss: 0.6594 - accuracy: 0.8693\n",
      "Epoch 98/200\n",
      " - 3s - loss: 0.6469 - accuracy: 0.8740\n",
      "Epoch 99/200\n",
      " - 3s - loss: 0.6314 - accuracy: 0.8763\n",
      "Epoch 100/200\n",
      " - 3s - loss: 0.6183 - accuracy: 0.8774\n",
      "Epoch 101/200\n",
      " - 4s - loss: 0.6085 - accuracy: 0.8775\n",
      "Epoch 102/200\n",
      " - 3s - loss: 0.5935 - accuracy: 0.8804\n",
      "Epoch 103/200\n",
      " - 3s - loss: 0.5801 - accuracy: 0.8827\n",
      "Epoch 104/200\n",
      " - 3s - loss: 0.5648 - accuracy: 0.8850\n",
      "Epoch 105/200\n",
      " - 3s - loss: 0.5539 - accuracy: 0.8890\n",
      "Epoch 106/200\n",
      " - 3s - loss: 0.5426 - accuracy: 0.8911\n",
      "Epoch 107/200\n",
      " - 3s - loss: 0.5326 - accuracy: 0.8909\n",
      "Epoch 108/200\n",
      " - 3s - loss: 0.5222 - accuracy: 0.8930\n",
      "Epoch 109/200\n",
      " - 3s - loss: 0.5113 - accuracy: 0.8945\n",
      "Epoch 110/200\n",
      " - 3s - loss: 0.5006 - accuracy: 0.8979\n",
      "Epoch 111/200\n",
      " - 3s - loss: 0.4909 - accuracy: 0.8972\n",
      "Epoch 112/200\n",
      " - 3s - loss: 0.4810 - accuracy: 0.8990\n",
      "Epoch 113/200\n",
      " - 3s - loss: 0.4725 - accuracy: 0.9013\n",
      "Epoch 114/200\n",
      " - 3s - loss: 0.4662 - accuracy: 0.9011\n",
      "Epoch 115/200\n",
      " - 3s - loss: 0.4565 - accuracy: 0.9047\n",
      "Epoch 116/200\n",
      " - 3s - loss: 0.4487 - accuracy: 0.9035\n",
      "Epoch 117/200\n",
      " - 3s - loss: 0.4439 - accuracy: 0.9027\n",
      "Epoch 118/200\n",
      " - 3s - loss: 0.4374 - accuracy: 0.9053\n",
      "Epoch 119/200\n",
      " - 3s - loss: 0.4259 - accuracy: 0.9055\n",
      "Epoch 120/200\n",
      " - 3s - loss: 0.4172 - accuracy: 0.9064\n",
      "Epoch 121/200\n",
      " - 3s - loss: 0.4100 - accuracy: 0.9082\n",
      "Epoch 122/200\n",
      " - 3s - loss: 0.4025 - accuracy: 0.9084\n",
      "Epoch 123/200\n",
      " - 3s - loss: 0.3968 - accuracy: 0.9090\n",
      "Epoch 124/200\n",
      " - 3s - loss: 0.3902 - accuracy: 0.9120\n",
      "Epoch 125/200\n",
      " - 3s - loss: 0.3840 - accuracy: 0.9098\n",
      "Epoch 126/200\n",
      " - 3s - loss: 0.3845 - accuracy: 0.9107\n",
      "Epoch 127/200\n",
      " - 3s - loss: 0.3793 - accuracy: 0.9104\n",
      "Epoch 128/200\n",
      " - 3s - loss: 0.3702 - accuracy: 0.9117\n",
      "Epoch 129/200\n",
      " - 3s - loss: 0.3654 - accuracy: 0.9130\n",
      "Epoch 130/200\n",
      " - 3s - loss: 0.3607 - accuracy: 0.9121\n",
      "Epoch 131/200\n",
      " - 3s - loss: 0.3552 - accuracy: 0.9139\n",
      "Epoch 132/200\n",
      " - 3s - loss: 0.3526 - accuracy: 0.9138\n",
      "Epoch 133/200\n",
      " - 3s - loss: 0.3471 - accuracy: 0.9132\n",
      "Epoch 134/200\n",
      " - 3s - loss: 0.3438 - accuracy: 0.9159\n",
      "Epoch 135/200\n",
      " - 3s - loss: 0.3404 - accuracy: 0.9127\n",
      "Epoch 136/200\n",
      " - 3s - loss: 0.3353 - accuracy: 0.9145\n",
      "Epoch 137/200\n",
      " - 3s - loss: 0.3313 - accuracy: 0.9164\n",
      "Epoch 138/200\n",
      " - 3s - loss: 0.3275 - accuracy: 0.9146\n",
      "Epoch 139/200\n",
      " - 3s - loss: 0.3260 - accuracy: 0.9170\n",
      "Epoch 140/200\n",
      " - 3s - loss: 0.3223 - accuracy: 0.9150\n",
      "Epoch 141/200\n",
      " - 3s - loss: 0.3411 - accuracy: 0.9136\n",
      "Epoch 142/200\n",
      " - 3s - loss: 0.3821 - accuracy: 0.9052\n",
      "Epoch 143/200\n",
      " - 3s - loss: 0.3460 - accuracy: 0.9114\n",
      "Epoch 144/200\n",
      " - 3s - loss: 0.3156 - accuracy: 0.9166\n",
      "Epoch 145/200\n",
      " - 3s - loss: 0.3107 - accuracy: 0.9161\n",
      "Epoch 146/200\n",
      " - 3s - loss: 0.3060 - accuracy: 0.9152\n",
      "Epoch 147/200\n",
      " - 3s - loss: 0.3043 - accuracy: 0.9166\n",
      "Epoch 148/200\n",
      " - 3s - loss: 0.3031 - accuracy: 0.9168\n",
      "Epoch 149/200\n",
      " - 3s - loss: 0.3005 - accuracy: 0.9161\n",
      "Epoch 150/200\n",
      " - 3s - loss: 0.2995 - accuracy: 0.9157\n",
      "Epoch 151/200\n",
      " - 3s - loss: 0.3006 - accuracy: 0.9167\n",
      "Epoch 152/200\n",
      " - 3s - loss: 0.2969 - accuracy: 0.9177\n",
      "Epoch 153/200\n",
      " - 3s - loss: 0.2954 - accuracy: 0.9172\n",
      "Epoch 154/200\n",
      " - 3s - loss: 0.2941 - accuracy: 0.9162\n"
     ]
    },
    {
     "name": "stdout",
     "output_type": "stream",
     "text": [
      "Epoch 155/200\n",
      " - 3s - loss: 0.2927 - accuracy: 0.9157\n",
      "Epoch 156/200\n",
      " - 3s - loss: 0.2971 - accuracy: 0.9155\n",
      "Epoch 157/200\n",
      " - 3s - loss: 0.3214 - accuracy: 0.9117\n",
      "Epoch 158/200\n",
      " - 3s - loss: 0.3264 - accuracy: 0.9118\n",
      "Epoch 159/200\n",
      " - 3s - loss: 0.2927 - accuracy: 0.9179\n",
      "Epoch 160/200\n",
      " - 3s - loss: 0.2865 - accuracy: 0.9168\n",
      "Epoch 161/200\n",
      " - 3s - loss: 0.2840 - accuracy: 0.9179\n",
      "Epoch 162/200\n",
      " - 3s - loss: 0.2834 - accuracy: 0.9164\n",
      "Epoch 163/200\n",
      " - 3s - loss: 0.2819 - accuracy: 0.9163\n",
      "Epoch 164/200\n",
      " - 3s - loss: 0.2812 - accuracy: 0.9171\n",
      "Epoch 165/200\n",
      " - 3s - loss: 0.2801 - accuracy: 0.9171\n",
      "Epoch 166/200\n",
      " - 3s - loss: 0.2794 - accuracy: 0.9179\n",
      "Epoch 167/200\n",
      " - 3s - loss: 0.2788 - accuracy: 0.9163\n",
      "Epoch 168/200\n",
      " - 3s - loss: 0.2792 - accuracy: 0.9162\n",
      "Epoch 169/200\n",
      " - 3s - loss: 0.2772 - accuracy: 0.9176\n",
      "Epoch 170/200\n",
      " - 3s - loss: 0.2766 - accuracy: 0.9173\n",
      "Epoch 171/200\n",
      " - 3s - loss: 0.2767 - accuracy: 0.9166\n",
      "Epoch 172/200\n",
      " - 3s - loss: 0.2794 - accuracy: 0.9155\n",
      "Epoch 173/200\n",
      " - 3s - loss: 0.2761 - accuracy: 0.9175\n",
      "Epoch 174/200\n",
      " - 3s - loss: 0.2891 - accuracy: 0.9131\n",
      "Epoch 175/200\n",
      " - 3s - loss: 0.2878 - accuracy: 0.9136\n",
      "Epoch 176/200\n",
      " - 3s - loss: 0.2865 - accuracy: 0.9131\n",
      "Epoch 177/200\n",
      " - 3s - loss: 0.2755 - accuracy: 0.9152\n",
      "Epoch 178/200\n",
      " - 3s - loss: 0.2720 - accuracy: 0.9164\n",
      "Epoch 179/200\n",
      " - 3s - loss: 0.2704 - accuracy: 0.9154\n",
      "Epoch 180/200\n",
      " - 3s - loss: 0.2689 - accuracy: 0.9159\n",
      "Epoch 181/200\n",
      " - 3s - loss: 0.2687 - accuracy: 0.9181\n",
      "Epoch 182/200\n",
      " - 3s - loss: 0.2684 - accuracy: 0.9153\n",
      "Epoch 183/200\n",
      " - 3s - loss: 0.2682 - accuracy: 0.9162\n",
      "Epoch 184/200\n",
      " - 3s - loss: 0.2671 - accuracy: 0.9161\n",
      "Epoch 185/200\n",
      " - 3s - loss: 0.2682 - accuracy: 0.9167\n",
      "Epoch 186/200\n",
      " - 3s - loss: 0.2671 - accuracy: 0.9168\n",
      "Epoch 187/200\n",
      " - 3s - loss: 0.2668 - accuracy: 0.9168\n",
      "Epoch 188/200\n",
      " - 3s - loss: 0.2667 - accuracy: 0.9162\n",
      "Epoch 189/200\n",
      " - 3s - loss: 0.2658 - accuracy: 0.9173\n",
      "Epoch 190/200\n",
      " - 3s - loss: 0.2655 - accuracy: 0.9155\n",
      "Epoch 191/200\n",
      " - 3s - loss: 0.2662 - accuracy: 0.9166\n",
      "Epoch 192/200\n",
      " - 3s - loss: 0.2815 - accuracy: 0.9141\n",
      "Epoch 193/200\n",
      " - 3s - loss: 0.3061 - accuracy: 0.9082\n",
      "Epoch 194/200\n",
      " - 3s - loss: 0.2745 - accuracy: 0.9153\n",
      "Epoch 195/200\n",
      " - 3s - loss: 0.2657 - accuracy: 0.9182\n",
      "Epoch 196/200\n",
      " - 3s - loss: 0.2640 - accuracy: 0.9159\n",
      "Epoch 197/200\n",
      " - 3s - loss: 0.2627 - accuracy: 0.9182\n",
      "Epoch 198/200\n",
      " - 3s - loss: 0.2627 - accuracy: 0.9157\n",
      "Epoch 199/200\n",
      " - 3s - loss: 0.2619 - accuracy: 0.9170\n",
      "Epoch 200/200\n",
      " - 3s - loss: 0.2623 - accuracy: 0.9157\n"
     ]
    }
   ],
   "source": [
    "history = model.fit(X, y, epochs=200, verbose=2)"
   ]
  },
  {
   "cell_type": "code",
   "execution_count": 26,
   "metadata": {},
   "outputs": [],
   "source": [
    "def sentence_generation(model, t, current_word, n): # 모델, 토크나이저, 현재 단어, 반복할 횟수\n",
    "    init_word = current_word # 처음 들어온 단어도 마지막에 같이 출력하기위해 저장\n",
    "    sentence = ''\n",
    "    for _ in range(n): # n번 반복\n",
    "        encoded = t.texts_to_sequences([current_word])[0] # 현재 단어에 대한 정수 인코딩\n",
    "        encoded = pad_sequences([encoded], maxlen=23, padding='pre') # 데이터에 대한 패딩\n",
    "        result = model.predict_classes(encoded, verbose=0)\n",
    "          # 입력한 X(현재 단어)에 대해서 y를 예측하고 y(예측한 단어)를 result에 저장.\n",
    "        for word, index in t.word_index.items(): \n",
    "            if index == result: # 만약 예측한 단어와 인덱스와 동일한 단어가 있다면\n",
    "                break # 해당 단어가 예측 단어이므로 break\n",
    "        current_word = current_word + ' '  + word # 현재 단어 + ' ' + 예측 단어를 현재 단어로 변경\n",
    "        sentence = sentence + ' ' + word # 예측 단어를 문장에 저장\n",
    "\n",
    "    sentence = init_word + sentence\n",
    "    return sentence"
   ]
  },
  {
   "cell_type": "code",
   "execution_count": 27,
   "metadata": {},
   "outputs": [
    {
     "name": "stdout",
     "output_type": "stream",
     "text": [
      "i disapprove of school vouchers can i still apply for them\n"
     ]
    }
   ],
   "source": [
    "print(sentence_generation(model, t, 'i', 10))\n",
    "# 임의의 단어 'i'에 대해서 10개의 단어를 추가 생성"
   ]
  },
  {
   "cell_type": "code",
   "execution_count": 28,
   "metadata": {},
   "outputs": [
    {
     "name": "stdout",
     "output_type": "stream",
     "text": [
      "how to prevent a racist hoodie for lawyers more hes dies\n"
     ]
    }
   ],
   "source": [
    "print(sentence_generation(model, t, 'how', 10))\n",
    "# 임의의 단어 'how'에 대해서 10개의 단어를 추가 생성"
   ]
  },
  {
   "cell_type": "code",
   "execution_count": 29,
   "metadata": {},
   "outputs": [
    {
     "name": "stdout",
     "output_type": "stream",
     "text": [
      "former fbi deputy director is faulted in scathing inspector general report\n"
     ]
    }
   ],
   "source": [
    "print(sentence_generation(model, t, 'former', 10))"
   ]
  },
  {
   "cell_type": "code",
   "execution_count": null,
   "metadata": {},
   "outputs": [],
   "source": []
  },
  {
   "cell_type": "code",
   "execution_count": null,
   "metadata": {},
   "outputs": [],
   "source": []
  },
  {
   "cell_type": "code",
   "execution_count": null,
   "metadata": {},
   "outputs": [],
   "source": []
  },
  {
   "cell_type": "code",
   "execution_count": null,
   "metadata": {},
   "outputs": [],
   "source": []
  },
  {
   "cell_type": "code",
   "execution_count": null,
   "metadata": {},
   "outputs": [],
   "source": []
  }
 ],
 "metadata": {
  "kernelspec": {
   "display_name": "Python 3",
   "language": "python",
   "name": "python3"
  },
  "language_info": {
   "codemirror_mode": {
    "name": "ipython",
    "version": 3
   },
   "file_extension": ".py",
   "mimetype": "text/x-python",
   "name": "python",
   "nbconvert_exporter": "python",
   "pygments_lexer": "ipython3",
   "version": "3.7.7"
  }
 },
 "nbformat": 4,
 "nbformat_minor": 4
}
