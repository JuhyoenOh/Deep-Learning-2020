{
 "cells": [
  {
   "cell_type": "code",
   "execution_count": 1,
   "metadata": {},
   "outputs": [
    {
     "name": "stdout",
     "output_type": "stream",
     "text": [
      "WARNING:tensorflow:From C:\\ProgramData\\Anaconda3\\envs\\tf2\\lib\\site-packages\\tensorflow_core\\python\\compat\\v2_compat.py:88: disable_resource_variables (from tensorflow.python.ops.variable_scope) is deprecated and will be removed in a future version.\n",
      "Instructions for updating:\n",
      "non-resource variables are not supported in the long term\n"
     ]
    }
   ],
   "source": [
    "import numpy as np\n",
    "import tensorflow.compat.v1 as tf\n",
    "tf.disable_v2_behavior()"
   ]
  },
  {
   "cell_type": "code",
   "execution_count": 2,
   "metadata": {},
   "outputs": [],
   "source": [
    "seed = 2020\n",
    "np.random.seed(seed)"
   ]
  },
  {
   "cell_type": "code",
   "execution_count": 3,
   "metadata": {},
   "outputs": [],
   "source": [
    "tf.set_random_seed(seed)"
   ]
  },
  {
   "cell_type": "code",
   "execution_count": 4,
   "metadata": {},
   "outputs": [
    {
     "name": "stdout",
     "output_type": "stream",
     "text": [
      "(4, 2) (4, 1)\n"
     ]
    }
   ],
   "source": [
    "x_data = np.array([[0,0],[0,1],[1,0],[1,1]])\n",
    "y_data = np.array([0,1,1,0]).reshape(-1,1)\n",
    "print(x_data.shape,y_data.shape)"
   ]
  },
  {
   "cell_type": "code",
   "execution_count": 15,
   "metadata": {},
   "outputs": [],
   "source": [
    "X = tf.placeholder(tf.float32,[None,2])\n",
    "Y = tf.placeholder(tf.float32,[None,1])"
   ]
  },
  {
   "cell_type": "code",
   "execution_count": 16,
   "metadata": {},
   "outputs": [],
   "source": [
    "W1 = tf.Variable(tf.random_normal([2,2]), dtype=tf.float32)\n",
    "b1 = tf.Variable(tf.random_normal([2]), dtype=tf.float32)\n",
    "L1 = tf.sigmoid(tf.matmul(X,W1)+b1)"
   ]
  },
  {
   "cell_type": "code",
   "execution_count": 17,
   "metadata": {},
   "outputs": [],
   "source": [
    "W2 = tf.Variable(tf.random_normal([2,1]), dtype=tf.float32)\n",
    "b2 = tf.Variable(tf.random_normal([1]), dtype=tf.float32)\n",
    "hypo = tf.sigmoid(tf.matmul(L1,W2)+b2)"
   ]
  },
  {
   "cell_type": "code",
   "execution_count": 18,
   "metadata": {},
   "outputs": [],
   "source": [
    "# Cost - Binary Cross Entropy\n",
    "cost = -tf.reduce_mean(Y * tf.log(hypo) + (1.-Y) * tf.log(1.-hypo))"
   ]
  },
  {
   "cell_type": "code",
   "execution_count": 19,
   "metadata": {},
   "outputs": [],
   "source": [
    "lr = 0.1\n",
    "train = tf.train.AdamOptimizer(learning_rate=lr).minimize(cost)"
   ]
  },
  {
   "cell_type": "code",
   "execution_count": 20,
   "metadata": {},
   "outputs": [],
   "source": [
    "predicted = tf.cast(hypo > 0.5, dtype=tf.float32)\n",
    "accuracy = tf.reduce_mean(tf.cast(tf.equal(predicted, Y), dtype=tf.float32))"
   ]
  },
  {
   "cell_type": "code",
   "execution_count": 21,
   "metadata": {},
   "outputs": [
    {
     "name": "stdout",
     "output_type": "stream",
     "text": [
      "0 0.73391104\n",
      "1000 0.00077986566\n",
      "2000 0.00022947503\n",
      "3000 0.00010131825\n",
      "4000 5.2051142e-05\n",
      "5000 2.8759663e-05\n",
      "6000 1.6510625e-05\n",
      "7000 9.715605e-06\n",
      "8000 5.796569e-06\n",
      "9000 3.4868779e-06\n",
      "10000 2.101066e-06\n",
      "\n",
      "Hypothesis:\n",
      "[[1.5642164e-06]\n",
      " [9.9999762e-01]\n",
      " [9.9999762e-01]\n",
      " [2.0678624e-06]] \n",
      "Predicted:\n",
      "[[0.]\n",
      " [1.]\n",
      " [1.]\n",
      " [0.]] \n",
      "Accuracy:\n",
      "1.0\n",
      "\n",
      "W1:\n",
      "[[  9.695297 -12.03818 ]\n",
      " [  9.663218 -11.873598]] \n",
      "b1:\n",
      "[-14.668222   5.345416] \n",
      "W2:\n",
      "[[-26.50592 ]\n",
      " [-26.670437]]\n",
      "b1:\n",
      "[13.175713]\n"
     ]
    }
   ],
   "source": [
    "with tf.Session() as sess:\n",
    "    # Initialize TensorFlow variables\n",
    "    sess.run(tf.global_variables_initializer())\n",
    "    for step in range(10001):\n",
    "        _, cost_val = sess.run([train, cost], feed_dict={X: x_data, Y: y_data})\n",
    "        if step % 1000 == 0:\n",
    "            print(step, cost_val)\n",
    "            \n",
    "    # Accuracy report\n",
    "    h, p, a = sess.run([hypo, predicted, accuracy], feed_dict={X: x_data, Y: y_data}) \n",
    "    print(f\"\\nHypothesis:\\n{h} \\nPredicted:\\n{p} \\nAccuracy:\\n{a}\")\n",
    "    \n",
    "    # Weight, bias\n",
    "    W1_, b1_, W2_, b2_ = sess.run([W1, b1, W2, b2])\n",
    "    print(f\"\\nW1:\\n{W1_} \\nb1:\\n{b1_} \\nW2:\\n{W2_}\\nb1:\\n{b2_}\")"
   ]
  },
  {
   "cell_type": "code",
   "execution_count": null,
   "metadata": {},
   "outputs": [],
   "source": []
  }
 ],
 "metadata": {
  "kernelspec": {
   "display_name": "Python 3",
   "language": "python",
   "name": "python3"
  },
  "language_info": {
   "codemirror_mode": {
    "name": "ipython",
    "version": 3
   },
   "file_extension": ".py",
   "mimetype": "text/x-python",
   "name": "python",
   "nbconvert_exporter": "python",
   "pygments_lexer": "ipython3",
   "version": "3.7.7"
  }
 },
 "nbformat": 4,
 "nbformat_minor": 4
}
