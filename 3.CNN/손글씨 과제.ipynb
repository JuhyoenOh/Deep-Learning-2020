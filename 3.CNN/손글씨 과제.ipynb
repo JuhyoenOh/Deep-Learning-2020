{
 "cells": [
  {
   "cell_type": "markdown",
   "metadata": {},
   "source": [
    "#  CNN\n",
    "## MNIST 사례\n"
   ]
  },
  {
   "cell_type": "code",
   "execution_count": 1,
   "metadata": {},
   "outputs": [
    {
     "name": "stderr",
     "output_type": "stream",
     "text": [
      "Using TensorFlow backend.\n"
     ]
    }
   ],
   "source": [
    "import numpy as np\n",
    "import tensorflow as tf\n",
    "from tensorflow import keras\n",
    "from keras.datasets import mnist\n",
    "from keras.models import Sequential\n",
    "from keras.layers import Dense, Dropout, Flatten, Conv2D, MaxPooling2D\n",
    "from keras.callbacks import ModelCheckpoint, EarlyStopping\n",
    "\n",
    "import os\n",
    "import matplotlib.pyplot as plt\n",
    "%matplotlib inline"
   ]
  },
  {
   "cell_type": "code",
   "execution_count": 2,
   "metadata": {},
   "outputs": [],
   "source": [
    "seed =  2020\n",
    "\n",
    "np.random.seed(seed)\n",
    "tf.random.set_seed(seed)"
   ]
  },
  {
   "cell_type": "code",
   "execution_count": 3,
   "metadata": {},
   "outputs": [],
   "source": [
    "(X_train, Y_train), (X_test, Y_test) = mnist.load_data()\n",
    "X_train = X_train.reshape(X_train.shape[0], 28,28,1).astype('float32')/255\n",
    "#X_train = X_train.reshape(-1, 28,28,1).astype('float32')/255\n",
    "X_test = X_test.reshape(X_test.shape[0], 28,28,1).astype('float32')/255\n",
    "#X_test = X_test.reshape(-1, 28,28,1).astype('float32')/255\n",
    "Y_train = tf.keras.utils.to_categorical(Y_train)\n",
    "Y_test = tf.keras.utils.to_categorical(Y_test)\n"
   ]
  },
  {
   "cell_type": "code",
   "execution_count": 4,
   "metadata": {},
   "outputs": [
    {
     "name": "stdout",
     "output_type": "stream",
     "text": [
      "Model: \"sequential_1\"\n",
      "_________________________________________________________________\n",
      "Layer (type)                 Output Shape              Param #   \n",
      "=================================================================\n",
      "conv2d_1 (Conv2D)            (None, 25, 25, 32)        544       \n",
      "_________________________________________________________________\n",
      "conv2d_2 (Conv2D)            (None, 22, 22, 64)        32832     \n",
      "_________________________________________________________________\n",
      "max_pooling2d_1 (MaxPooling2 (None, 11, 11, 64)        0         \n",
      "_________________________________________________________________\n",
      "dropout_1 (Dropout)          (None, 11, 11, 64)        0         \n",
      "_________________________________________________________________\n",
      "flatten_1 (Flatten)          (None, 7744)              0         \n",
      "_________________________________________________________________\n",
      "dense_1 (Dense)              (None, 64)                495680    \n",
      "_________________________________________________________________\n",
      "dense_2 (Dense)              (None, 128)               8320      \n",
      "_________________________________________________________________\n",
      "dense_3 (Dense)              (None, 256)               33024     \n",
      "_________________________________________________________________\n",
      "dropout_2 (Dropout)          (None, 256)               0         \n",
      "_________________________________________________________________\n",
      "dense_4 (Dense)              (None, 10)                2570      \n",
      "=================================================================\n",
      "Total params: 572,970\n",
      "Trainable params: 572,970\n",
      "Non-trainable params: 0\n",
      "_________________________________________________________________\n"
     ]
    }
   ],
   "source": [
    "model = Sequential([\n",
    "    Conv2D(32, kernel_size=(4,4), input_shape=(28,28,1), activation='relu'),\n",
    "    Conv2D(64,(4,4),activation='relu'),\n",
    "    MaxPooling2D(pool_size=2),\n",
    "    Dropout(0.25),\n",
    "    Flatten(),\n",
    "    Dense(64, activation = 'relu'),\n",
    "    Dense(128, activation = 'relu'),\n",
    "    Dense(256, activation = 'relu'),\n",
    "    Dropout(0.5),\n",
    "    Dense(10, activation = 'softmax')\n",
    "])\n",
    "model.summary()"
   ]
  },
  {
   "cell_type": "code",
   "execution_count": 5,
   "metadata": {},
   "outputs": [],
   "source": [
    "model.compile(loss='categorical_crossentropy',\n",
    "             optimizer='adam',\n",
    "             metrics=['accuracy'])"
   ]
  },
  {
   "cell_type": "code",
   "execution_count": 6,
   "metadata": {},
   "outputs": [],
   "source": [
    "MODEL_DIR = './model/'\n",
    "if not os.path.exists(MODEL_DIR):\n",
    "    os.mkdir(MODEL_DIR)"
   ]
  },
  {
   "cell_type": "code",
   "execution_count": 7,
   "metadata": {},
   "outputs": [],
   "source": [
    "modelpath = MODEL_DIR + \"과제-1-cnn-{epoch:02d}-{val_loss:.4f}.hdf5\"\n",
    "checkpointer = ModelCheckpoint(filepath=modelpath, monitor='val_loss',\n",
    "                               verbose = 1 , save_best_only=True)\n",
    "early_stopping_callback = EarlyStopping(monitor='val_loss', patience = 10)"
   ]
  },
  {
   "cell_type": "code",
   "execution_count": 8,
   "metadata": {},
   "outputs": [
    {
     "name": "stdout",
     "output_type": "stream",
     "text": [
      "Train on 60000 samples, validate on 10000 samples\n",
      "Epoch 1/30\n",
      "60000/60000 [==============================] - 56s 938us/step - loss: 0.2745 - accuracy: 0.9135 - val_loss: 0.0528 - val_accuracy: 0.9833\n",
      "\n",
      "Epoch 00001: val_loss improved from inf to 0.05276, saving model to ./model/과제-1-cnn-01-0.0528.hdf5\n",
      "Epoch 2/30\n",
      "60000/60000 [==============================] - 57s 955us/step - loss: 0.0627 - accuracy: 0.9820 - val_loss: 0.0347 - val_accuracy: 0.9885\n",
      "\n",
      "Epoch 00002: val_loss improved from 0.05276 to 0.03468, saving model to ./model/과제-1-cnn-02-0.0347.hdf5\n",
      "Epoch 3/30\n",
      "60000/60000 [==============================] - 56s 941us/step - loss: 0.0417 - accuracy: 0.9873 - val_loss: 0.0358 - val_accuracy: 0.9892\n",
      "\n",
      "Epoch 00003: val_loss did not improve from 0.03468\n",
      "Epoch 4/30\n",
      "60000/60000 [==============================] - 56s 936us/step - loss: 0.0329 - accuracy: 0.9899 - val_loss: 0.0299 - val_accuracy: 0.9899\n",
      "\n",
      "Epoch 00004: val_loss improved from 0.03468 to 0.02990, saving model to ./model/과제-1-cnn-04-0.0299.hdf5\n",
      "Epoch 5/30\n",
      "60000/60000 [==============================] - 56s 935us/step - loss: 0.0255 - accuracy: 0.9923 - val_loss: 0.0310 - val_accuracy: 0.9906\n",
      "\n",
      "Epoch 00005: val_loss did not improve from 0.02990\n",
      "Epoch 6/30\n",
      "60000/60000 [==============================] - 56s 934us/step - loss: 0.0219 - accuracy: 0.9928 - val_loss: 0.0294 - val_accuracy: 0.9914\n",
      "\n",
      "Epoch 00006: val_loss improved from 0.02990 to 0.02939, saving model to ./model/과제-1-cnn-06-0.0294.hdf5\n",
      "Epoch 7/30\n",
      "60000/60000 [==============================] - 56s 933us/step - loss: 0.0179 - accuracy: 0.9944 - val_loss: 0.0281 - val_accuracy: 0.9918\n",
      "\n",
      "Epoch 00007: val_loss improved from 0.02939 to 0.02813, saving model to ./model/과제-1-cnn-07-0.0281.hdf5\n",
      "Epoch 8/30\n",
      "60000/60000 [==============================] - 56s 932us/step - loss: 0.0170 - accuracy: 0.9948 - val_loss: 0.0319 - val_accuracy: 0.9911\n",
      "\n",
      "Epoch 00008: val_loss did not improve from 0.02813\n",
      "Epoch 9/30\n",
      "60000/60000 [==============================] - 56s 929us/step - loss: 0.0161 - accuracy: 0.9949 - val_loss: 0.0337 - val_accuracy: 0.9912\n",
      "\n",
      "Epoch 00009: val_loss did not improve from 0.02813\n",
      "Epoch 10/30\n",
      "60000/60000 [==============================] - 56s 930us/step - loss: 0.0126 - accuracy: 0.9961 - val_loss: 0.0427 - val_accuracy: 0.9892\n",
      "\n",
      "Epoch 00010: val_loss did not improve from 0.02813\n",
      "Epoch 11/30\n",
      "60000/60000 [==============================] - 56s 932us/step - loss: 0.0096 - accuracy: 0.9973 - val_loss: 0.0476 - val_accuracy: 0.9883\n",
      "\n",
      "Epoch 00011: val_loss did not improve from 0.02813\n",
      "Epoch 12/30\n",
      "60000/60000 [==============================] - 56s 930us/step - loss: 0.0127 - accuracy: 0.9960 - val_loss: 0.0396 - val_accuracy: 0.9908\n",
      "\n",
      "Epoch 00012: val_loss did not improve from 0.02813\n",
      "Epoch 13/30\n",
      "60000/60000 [==============================] - 56s 929us/step - loss: 0.0104 - accuracy: 0.9968 - val_loss: 0.0499 - val_accuracy: 0.9892\n",
      "\n",
      "Epoch 00013: val_loss did not improve from 0.02813\n",
      "Epoch 14/30\n",
      "60000/60000 [==============================] - 56s 930us/step - loss: 0.0090 - accuracy: 0.9972 - val_loss: 0.0404 - val_accuracy: 0.9910\n",
      "\n",
      "Epoch 00014: val_loss did not improve from 0.02813\n",
      "Epoch 15/30\n",
      "60000/60000 [==============================] - 56s 936us/step - loss: 0.0083 - accuracy: 0.9974 - val_loss: 0.0380 - val_accuracy: 0.9903\n",
      "\n",
      "Epoch 00015: val_loss did not improve from 0.02813\n",
      "Epoch 16/30\n",
      "60000/60000 [==============================] - 56s 936us/step - loss: 0.0080 - accuracy: 0.9977 - val_loss: 0.0408 - val_accuracy: 0.9894\n",
      "\n",
      "Epoch 00016: val_loss did not improve from 0.02813\n",
      "Epoch 17/30\n",
      "60000/60000 [==============================] - 56s 928us/step - loss: 0.0074 - accuracy: 0.9977 - val_loss: 0.0406 - val_accuracy: 0.9914\n",
      "\n",
      "Epoch 00017: val_loss did not improve from 0.02813\n"
     ]
    }
   ],
   "source": [
    "history = model.fit(X_train, Y_train, validation_data=(X_test, Y_test), epochs=30,\n",
    "                    batch_size=200, #epochs=5, verbose=2, \n",
    "                    callbacks=[early_stopping_callback, checkpointer])"
   ]
  },
  {
   "cell_type": "code",
   "execution_count": 9,
   "metadata": {},
   "outputs": [],
   "source": [
    "from tensorflow.keras.models import load_model\n",
    "\n",
    "model = load_model('model/과제-1-cnn-07-0.0281.hdf5')"
   ]
  },
  {
   "cell_type": "code",
   "execution_count": 10,
   "metadata": {},
   "outputs": [
    {
     "name": "stdout",
     "output_type": "stream",
     "text": [
      "\n",
      " Test Accuracy: 0.9918\n"
     ]
    }
   ],
   "source": [
    "print(\"\\n Test Accuracy: %.4f\" % (model.evaluate(X_test, Y_test, verbose=0)[1]))"
   ]
  },
  {
   "cell_type": "code",
   "execution_count": 11,
   "metadata": {},
   "outputs": [],
   "source": [
    "y_vloss = history.history['val_loss']\n",
    "y_loss = history.history['loss']"
   ]
  },
  {
   "cell_type": "code",
   "execution_count": 12,
   "metadata": {},
   "outputs": [
    {
     "data": {
      "image/png": "[encoded data removed]",
      "text/plain": [
       "<Figure size 576x432 with 1 Axes>"
      ]
     },
     "metadata": {
      "needs_background": "light"
     },
     "output_type": "display_data"
    }
   ],
   "source": [
    "x_len = np.arange(1, len(y_loss)+1)\n",
    "plt.figure(figsize=(8,6))\n",
    "plt.plot(x_len, y_vloss, marker='.', c=\"red\", label='Testset_loss')\n",
    "plt.plot(x_len, y_loss, marker='.', c=\"blue\", label='Trainset_loss')\n",
    "plt.legend(loc='upper right')\n",
    "plt.grid()\n",
    "plt.xlabel('epoch')\n",
    "plt.ylabel('loss')\n",
    "plt.show()"
   ]
  },
  {
   "cell_type": "markdown",
   "metadata": {},
   "source": [
    "#  DNN\n",
    "## MNIST 사례"
   ]
  },
  {
   "cell_type": "code",
   "execution_count": 222,
   "metadata": {},
   "outputs": [
    {
     "name": "stdout",
     "output_type": "stream",
     "text": [
      "2.1.0\n"
     ]
    }
   ],
   "source": [
    "import tensorflow as tf\n",
    "from tensorflow import keras\n",
    "import numpy as np\n",
    "import matplotlib.pyplot as plt\n",
    "\n",
    "print(tf.__version__)"
   ]
  },
  {
   "cell_type": "code",
   "execution_count": 223,
   "metadata": {},
   "outputs": [],
   "source": [
    "import numpy as np\n",
    "import tensorflow as tf\n",
    "from tensorflow import keras\n",
    "from keras.datasets import mnist\n",
    "from keras.models import Sequential\n",
    "from keras.layers import Dense, Dropout, Flatten, Conv2D, MaxPooling2D\n",
    "from keras.callbacks import ModelCheckpoint, EarlyStopping\n",
    "\n",
    "import os\n",
    "import matplotlib.pyplot as plt\n",
    "%matplotlib inline"
   ]
  },
  {
   "cell_type": "code",
   "execution_count": 224,
   "metadata": {},
   "outputs": [],
   "source": [
    "seed =  2020\n",
    "\n",
    "np.random.seed(seed)\n",
    "tf.random.set_seed(seed)"
   ]
  },
  {
   "cell_type": "code",
   "execution_count": 225,
   "metadata": {},
   "outputs": [],
   "source": [
    "(X_train, Y_train), (X_test, Y_test) = mnist.load_data()"
   ]
  },
  {
   "cell_type": "code",
   "execution_count": 226,
   "metadata": {},
   "outputs": [
    {
     "data": {
      "text/plain": [
       "(60000, 28, 28)"
      ]
     },
     "execution_count": 226,
     "metadata": {},
     "output_type": "execute_result"
    }
   ],
   "source": [
    "X_train.shape"
   ]
  },
  {
   "cell_type": "code",
   "execution_count": 227,
   "metadata": {},
   "outputs": [
    {
     "data": {
      "text/plain": [
       "60000"
      ]
     },
     "execution_count": 227,
     "metadata": {},
     "output_type": "execute_result"
    }
   ],
   "source": [
    "len(Y_train)"
   ]
  },
  {
   "cell_type": "code",
   "execution_count": 228,
   "metadata": {},
   "outputs": [
    {
     "data": {
      "text/plain": [
       "(10000, 28, 28)"
      ]
     },
     "execution_count": 228,
     "metadata": {},
     "output_type": "execute_result"
    }
   ],
   "source": [
    "X_test.shape"
   ]
  },
  {
   "cell_type": "code",
   "execution_count": 229,
   "metadata": {},
   "outputs": [
    {
     "data": {
      "text/plain": [
       "10000"
      ]
     },
     "execution_count": 229,
     "metadata": {},
     "output_type": "execute_result"
    }
   ],
   "source": [
    "len(Y_test)"
   ]
  },
  {
   "cell_type": "code",
   "execution_count": 230,
   "metadata": {},
   "outputs": [
    {
     "data": {
      "image/png": "[encoded data removed]",
      "text/plain": [
       "<Figure size 432x288 with 2 Axes>"
      ]
     },
     "metadata": {
      "needs_background": "light"
     },
     "output_type": "display_data"
    }
   ],
   "source": [
    "plt.figure()\n",
    "plt.imshow(X_train[0])\n",
    "plt.colorbar()\n",
    "plt.grid(False)\n",
    "plt.show()"
   ]
  },
  {
   "cell_type": "code",
   "execution_count": 231,
   "metadata": {},
   "outputs": [],
   "source": [
    "X_train = X_train / 255.0\n",
    "\n",
    "X_test  = X_test / 255.0"
   ]
  },
  {
   "cell_type": "code",
   "execution_count": 232,
   "metadata": {},
   "outputs": [],
   "source": [
    "model = keras.Sequential([\n",
    "    keras.layers.Flatten(input_shape=(28, 28)),\n",
    "    keras.layers.Dense(256, activation='relu'),\n",
    "    keras.layers.Dense(128, activation='relu'),\n",
    "    keras.layers.Dense(64, activation='relu'),\n",
    "    keras.layers.Dense(32, activation='relu'),\n",
    "    keras.layers.Dense(10, activation='softmax')\n",
    "])"
   ]
  },
  {
   "cell_type": "code",
   "execution_count": 233,
   "metadata": {},
   "outputs": [],
   "source": [
    "model.compile(optimizer='adam',\n",
    "              loss='sparse_categorical_crossentropy',\n",
    "              metrics=['accuracy'])"
   ]
  },
  {
   "cell_type": "code",
   "execution_count": 234,
   "metadata": {
    "scrolled": false
   },
   "outputs": [
    {
     "name": "stdout",
     "output_type": "stream",
     "text": [
      "Train on 60000 samples\n",
      "Epoch 1/20\n",
      "60000/60000 [==============================] - 2s 38us/sample - loss: 0.2245 - accuracy: 0.9330\n",
      "Epoch 2/20\n",
      "60000/60000 [==============================] - 2s 33us/sample - loss: 0.0980 - accuracy: 0.9702\n",
      "Epoch 3/20\n",
      "60000/60000 [==============================] - 2s 33us/sample - loss: 0.0716 - accuracy: 0.9782\n",
      "Epoch 4/20\n",
      "60000/60000 [==============================] - 2s 33us/sample - loss: 0.0548 - accuracy: 0.9824\n",
      "Epoch 5/20\n",
      "60000/60000 [==============================] - 2s 33us/sample - loss: 0.0445 - accuracy: 0.9862\n",
      "Epoch 6/20\n",
      "60000/60000 [==============================] - 2s 33us/sample - loss: 0.0382 - accuracy: 0.9877\n",
      "Epoch 7/20\n",
      "60000/60000 [==============================] - 2s 33us/sample - loss: 0.0324 - accuracy: 0.9899\n",
      "Epoch 8/20\n",
      "60000/60000 [==============================] - 2s 33us/sample - loss: 0.0271 - accuracy: 0.9914\n",
      "Epoch 9/20\n",
      "60000/60000 [==============================] - 2s 33us/sample - loss: 0.0263 - accuracy: 0.9915\n",
      "Epoch 10/20\n",
      "60000/60000 [==============================] - 2s 33us/sample - loss: 0.0228 - accuracy: 0.9933\n",
      "Epoch 11/20\n",
      "60000/60000 [==============================] - 2s 33us/sample - loss: 0.0212 - accuracy: 0.9931\n",
      "Epoch 12/20\n",
      "60000/60000 [==============================] - 2s 34us/sample - loss: 0.0197 - accuracy: 0.9940\n",
      "Epoch 13/20\n",
      "60000/60000 [==============================] - 2s 34us/sample - loss: 0.0181 - accuracy: 0.9948\n",
      "Epoch 14/20\n",
      "60000/60000 [==============================] - 2s 37us/sample - loss: 0.0154 - accuracy: 0.9954\n",
      "Epoch 15/20\n",
      "60000/60000 [==============================] - 2s 34us/sample - loss: 0.0155 - accuracy: 0.9955\n",
      "Epoch 16/20\n",
      "60000/60000 [==============================] - 2s 33us/sample - loss: 0.0164 - accuracy: 0.9951\n",
      "Epoch 17/20\n",
      "60000/60000 [==============================] - 2s 39us/sample - loss: 0.0122 - accuracy: 0.9964\n",
      "Epoch 18/20\n",
      "60000/60000 [==============================] - 2s 39us/sample - loss: 0.0138 - accuracy: 0.9959\n",
      "Epoch 19/20\n",
      "60000/60000 [==============================] - 2s 37us/sample - loss: 0.0111 - accuracy: 0.9966\n",
      "Epoch 20/20\n",
      "60000/60000 [==============================] - 2s 41us/sample - loss: 0.0108 - accuracy: 0.9970\n"
     ]
    },
    {
     "data": {
      "text/plain": [
       "<tensorflow.python.keras.callbacks.History at 0x17d0c202cc8>"
      ]
     },
     "execution_count": 234,
     "metadata": {},
     "output_type": "execute_result"
    }
   ],
   "source": [
    "model.fit(X_train, Y_train, epochs=20)"
   ]
  },
  {
   "cell_type": "code",
   "execution_count": 235,
   "metadata": {},
   "outputs": [
    {
     "name": "stdout",
     "output_type": "stream",
     "text": [
      "10000/10000 - 0s - loss: 0.1009 - accuracy: 0.9819\n",
      "\n",
      "테스트 정확도: 0.9819\n"
     ]
    }
   ],
   "source": [
    "test_loss, test_acc = model.evaluate(X_test,  Y_test, verbose=2)\n",
    "\n",
    "print('\\n테스트 정확도:', test_acc)"
   ]
  }
 ],
 "metadata": {
  "kernelspec": {
   "display_name": "Python 3",
   "language": "python",
   "name": "python3"
  },
  "language_info": {
   "codemirror_mode": {
    "name": "ipython",
    "version": 3
   },
   "file_extension": ".py",
   "mimetype": "text/x-python",
   "name": "python",
   "nbconvert_exporter": "python",
   "pygments_lexer": "ipython3",
   "version": "3.7.7"
  }
 },
 "nbformat": 4,
 "nbformat_minor": 4
}
