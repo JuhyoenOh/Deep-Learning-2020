{
 "cells": [
  {
   "cell_type": "markdown",
   "metadata": {},
   "source": [
    "# 이미지 인식 - CNN\n",
    "## MNIST 사례\n"
   ]
  },
  {
   "cell_type": "code",
   "execution_count": 43,
   "metadata": {},
   "outputs": [],
   "source": [
    "import numpy as np\n",
    "import tensorflow as tf\n",
    "from tensorflow import keras\n",
    "from keras.datasets import mnist\n",
    "from keras.models import Sequential\n",
    "from keras.layers import Dense, Dropout, Flatten, Conv2D, MaxPooling2D\n",
    "from keras.callbacks import ModelCheckpoint, EarlyStopping\n",
    "\n",
    "import os\n",
    "import matplotlib.pyplot as plt\n",
    "%matplotlib inline"
   ]
  },
  {
   "cell_type": "code",
   "execution_count": 44,
   "metadata": {},
   "outputs": [],
   "source": [
    "seed =  0\n",
    "\n",
    "np.random.seed(seed)\n",
    "tf.random.set_seed(seed)"
   ]
  },
  {
   "cell_type": "code",
   "execution_count": 45,
   "metadata": {},
   "outputs": [],
   "source": [
    "(X_train, Y_train), (X_test, Y_test) = mnist.load_data()\n",
    "X_train = X_train.reshape(X_train.shape[0], 28,28,1).astype('float32')/255\n",
    "#X_train = X_train.reshape(-1, 28,28,1).astype('float32')/255\n",
    "X_test = X_test.reshape(X_test.shape[0], 28,28,1).astype('float32')/255\n",
    "#X_test = X_test.reshape(-1, 28,28,1).astype('float32')/255\n",
    "Y_train = tf.keras.utils.to_categorical(Y_train)\n",
    "Y_test = tf.keras.utils.to_categorical(Y_test)\n"
   ]
  },
  {
   "cell_type": "code",
   "execution_count": 46,
   "metadata": {},
   "outputs": [
    {
     "name": "stdout",
     "output_type": "stream",
     "text": [
      "Model: \"sequential_5\"\n",
      "_________________________________________________________________\n",
      "Layer (type)                 Output Shape              Param #   \n",
      "=================================================================\n",
      "conv2d_15 (Conv2D)           (None, 26, 26, 32)        320       \n",
      "_________________________________________________________________\n",
      "conv2d_16 (Conv2D)           (None, 24, 24, 64)        18496     \n",
      "_________________________________________________________________\n",
      "max_pooling2d_5 (MaxPooling2 (None, 12, 12, 64)        0         \n",
      "_________________________________________________________________\n",
      "dropout_9 (Dropout)          (None, 12, 12, 64)        0         \n",
      "_________________________________________________________________\n",
      "flatten_5 (Flatten)          (None, 9216)              0         \n",
      "_________________________________________________________________\n",
      "dense_9 (Dense)              (None, 128)               1179776   \n",
      "_________________________________________________________________\n",
      "dropout_10 (Dropout)         (None, 128)               0         \n",
      "_________________________________________________________________\n",
      "dense_10 (Dense)             (None, 10)                1290      \n",
      "=================================================================\n",
      "Total params: 1,199,882\n",
      "Trainable params: 1,199,882\n",
      "Non-trainable params: 0\n",
      "_________________________________________________________________\n"
     ]
    }
   ],
   "source": [
    "model = Sequential([\n",
    "    Conv2D(32, kernel_size=(3,3), input_shape=(28,28,1), activation='relu'),\n",
    "    Conv2D(64,(3,3),activation='relu'),\n",
    "    MaxPooling2D(pool_size=2),\n",
    "    Dropout(0.25),\n",
    "    Flatten(),\n",
    "    Dense(128, activation = 'relu'),\n",
    "    Dropout(0.5),\n",
    "    Dense(10, activation = 'softmax')\n",
    "])\n",
    "model.summary()"
   ]
  },
  {
   "cell_type": "code",
   "execution_count": 47,
   "metadata": {},
   "outputs": [],
   "source": [
    "model.compile(loss='categorical_crossentropy',\n",
    "             optimizer='adam',\n",
    "             metrics=['accuracy'])"
   ]
  },
  {
   "cell_type": "code",
   "execution_count": 48,
   "metadata": {},
   "outputs": [],
   "source": [
    "MODEL_DIR = './model/'\n",
    "if not os.path.exists(MODEL_DIR):\n",
    "    os.mkdir(MODEL_DIR)"
   ]
  },
  {
   "cell_type": "code",
   "execution_count": 49,
   "metadata": {},
   "outputs": [],
   "source": [
    "modelpath = MODEL_DIR + \"mnist-cnn-{epoch:02d}-{val_loss:.4f}.hdf5\"\n",
    "checkpointer = ModelCheckpoint(filepath=modelpath, monitor='val_loss',\n",
    "                               verbose = 1 , save_best_only=True)\n",
    "early_stopping_callback = EarlyStopping(monitor='val_loss', patience = 10)"
   ]
  },
  {
   "cell_type": "code",
   "execution_count": 32,
   "metadata": {},
   "outputs": [
    {
     "name": "stdout",
     "output_type": "stream",
     "text": [
      "Train on 60000 samples, validate on 10000 samples\n",
      "Epoch 1/30\n",
      "60000/60000 [==============================] - 86s 1ms/step - loss: 0.2853 - accuracy: 0.9123 - val_loss: 0.0575 - val_accuracy: 0.9802\n",
      "\n",
      "Epoch 00001: val_loss improved from inf to 0.05746, saving model to ./model/mnist-cnn-01-0.0575.hdf5\n",
      "Epoch 2/30\n",
      "60000/60000 [==============================] - 85s 1ms/step - loss: 0.0891 - accuracy: 0.9732 - val_loss: 0.0384 - val_accuracy: 0.9870\n",
      "\n",
      "Epoch 00002: val_loss improved from 0.05746 to 0.03843, saving model to ./model/mnist-cnn-02-0.0384.hdf5\n",
      "Epoch 3/30\n",
      "60000/60000 [==============================] - 87s 1ms/step - loss: 0.0683 - accuracy: 0.9791 - val_loss: 0.0346 - val_accuracy: 0.9889\n",
      "\n",
      "Epoch 00003: val_loss improved from 0.03843 to 0.03462, saving model to ./model/mnist-cnn-03-0.0346.hdf5\n",
      "Epoch 4/30\n",
      "60000/60000 [==============================] - 85s 1ms/step - loss: 0.0557 - accuracy: 0.9830 - val_loss: 0.0382 - val_accuracy: 0.9886\n",
      "\n",
      "Epoch 00004: val_loss did not improve from 0.03462\n",
      "Epoch 5/30\n",
      "60000/60000 [==============================] - 87s 1ms/step - loss: 0.0473 - accuracy: 0.9851 - val_loss: 0.0378 - val_accuracy: 0.9887\n",
      "\n",
      "Epoch 00005: val_loss did not improve from 0.03462\n",
      "Epoch 6/30\n",
      "60000/60000 [==============================] - 88s 1ms/step - loss: 0.0411 - accuracy: 0.9875 - val_loss: 0.0306 - val_accuracy: 0.9907\n",
      "\n",
      "Epoch 00006: val_loss improved from 0.03462 to 0.03062, saving model to ./model/mnist-cnn-06-0.0306.hdf5\n",
      "Epoch 7/30\n",
      "60000/60000 [==============================] - 85s 1ms/step - loss: 0.0360 - accuracy: 0.9886 - val_loss: 0.0295 - val_accuracy: 0.9897\n",
      "\n",
      "Epoch 00007: val_loss improved from 0.03062 to 0.02950, saving model to ./model/mnist-cnn-07-0.0295.hdf5\n",
      "Epoch 8/30\n",
      "60000/60000 [==============================] - 99s 2ms/step - loss: 0.0336 - accuracy: 0.9895 - val_loss: 0.0312 - val_accuracy: 0.9904\n",
      "\n",
      "Epoch 00008: val_loss did not improve from 0.02950\n",
      "Epoch 9/30\n",
      "60000/60000 [==============================] - 99s 2ms/step - loss: 0.0308 - accuracy: 0.9901 - val_loss: 0.0308 - val_accuracy: 0.9911\n",
      "\n",
      "Epoch 00009: val_loss did not improve from 0.02950\n",
      "Epoch 10/30\n",
      "60000/60000 [==============================] - 84s 1ms/step - loss: 0.0281 - accuracy: 0.9909 - val_loss: 0.0287 - val_accuracy: 0.9910\n",
      "\n",
      "Epoch 00010: val_loss improved from 0.02950 to 0.02872, saving model to ./model/mnist-cnn-10-0.0287.hdf5\n",
      "Epoch 11/30\n",
      "60000/60000 [==============================] - 84s 1ms/step - loss: 0.0246 - accuracy: 0.9922 - val_loss: 0.0322 - val_accuracy: 0.9907\n",
      "\n",
      "Epoch 00011: val_loss did not improve from 0.02872\n",
      "Epoch 12/30\n",
      "60000/60000 [==============================] - 85s 1ms/step - loss: 0.0240 - accuracy: 0.9926 - val_loss: 0.0282 - val_accuracy: 0.9908\n",
      "\n",
      "Epoch 00012: val_loss improved from 0.02872 to 0.02817, saving model to ./model/mnist-cnn-12-0.0282.hdf5\n",
      "Epoch 13/30\n",
      "60000/60000 [==============================] - 85s 1ms/step - loss: 0.0224 - accuracy: 0.9923 - val_loss: 0.0300 - val_accuracy: 0.9915\n",
      "\n",
      "Epoch 00013: val_loss did not improve from 0.02817\n",
      "Epoch 14/30\n",
      "60000/60000 [==============================] - 85s 1ms/step - loss: 0.0204 - accuracy: 0.9934 - val_loss: 0.0297 - val_accuracy: 0.9920\n",
      "\n",
      "Epoch 00014: val_loss did not improve from 0.02817\n",
      "Epoch 15/30\n",
      "60000/60000 [==============================] - 84s 1ms/step - loss: 0.0182 - accuracy: 0.9937 - val_loss: 0.0283 - val_accuracy: 0.9923\n",
      "\n",
      "Epoch 00015: val_loss did not improve from 0.02817\n",
      "Epoch 16/30\n",
      "60000/60000 [==============================] - 85s 1ms/step - loss: 0.0179 - accuracy: 0.9940 - val_loss: 0.0289 - val_accuracy: 0.9921\n",
      "\n",
      "Epoch 00016: val_loss did not improve from 0.02817\n",
      "Epoch 17/30\n",
      "60000/60000 [==============================] - 84s 1ms/step - loss: 0.0164 - accuracy: 0.9945 - val_loss: 0.0299 - val_accuracy: 0.9916\n",
      "\n",
      "Epoch 00017: val_loss did not improve from 0.02817\n",
      "Epoch 18/30\n",
      "60000/60000 [==============================] - 68s 1ms/step - loss: 0.0163 - accuracy: 0.9947 - val_loss: 0.0299 - val_accuracy: 0.9926\n",
      "\n",
      "Epoch 00018: val_loss did not improve from 0.02817\n",
      "Epoch 19/30\n",
      "60000/60000 [==============================] - 46s 769us/step - loss: 0.0143 - accuracy: 0.9952 - val_loss: 0.0302 - val_accuracy: 0.9923\n",
      "\n",
      "Epoch 00019: val_loss did not improve from 0.02817\n",
      "Epoch 20/30\n",
      "60000/60000 [==============================] - 46s 769us/step - loss: 0.0160 - accuracy: 0.9947 - val_loss: 0.0287 - val_accuracy: 0.9921\n",
      "\n",
      "Epoch 00020: val_loss did not improve from 0.02817\n",
      "Epoch 21/30\n",
      "60000/60000 [==============================] - 46s 770us/step - loss: 0.0137 - accuracy: 0.9952 - val_loss: 0.0289 - val_accuracy: 0.9930\n",
      "\n",
      "Epoch 00021: val_loss did not improve from 0.02817\n",
      "Epoch 22/30\n",
      "60000/60000 [==============================] - 46s 769us/step - loss: 0.0148 - accuracy: 0.9950 - val_loss: 0.0336 - val_accuracy: 0.9922\n",
      "\n",
      "Epoch 00022: val_loss did not improve from 0.02817\n"
     ]
    }
   ],
   "source": [
    "history = model.fit(X_train, Y_train, validation_data=(X_test, Y_test), epochs=30,\n",
    "                    batch_size=200, #epochs=5, verbose=2, \n",
    "                    callbacks=[early_stopping_callback, checkpointer])"
   ]
  },
  {
   "cell_type": "code",
   "execution_count": 42,
   "metadata": {},
   "outputs": [
    {
     "ename": "NameError",
     "evalue": "name 'model' is not defined",
     "output_type": "error",
     "traceback": [
      "\u001b[1;31m---------------------------------------------------------------------------\u001b[0m",
      "\u001b[1;31mNameError\u001b[0m                                 Traceback (most recent call last)",
      "\u001b[1;32m<ipython-input-42-a3b4ca6d1c42>\u001b[0m in \u001b[0;36m<module>\u001b[1;34m\u001b[0m\n\u001b[0;32m      1\u001b[0m \u001b[1;32mfrom\u001b[0m \u001b[0mtensorflow\u001b[0m\u001b[1;33m.\u001b[0m\u001b[0mkeras\u001b[0m\u001b[1;33m.\u001b[0m\u001b[0mmodels\u001b[0m \u001b[1;32mimport\u001b[0m \u001b[0mload_model\u001b[0m\u001b[1;33m\u001b[0m\u001b[1;33m\u001b[0m\u001b[0m\n\u001b[1;32m----> 2\u001b[1;33m \u001b[1;32mdel\u001b[0m \u001b[0mmodel\u001b[0m\u001b[1;33m\u001b[0m\u001b[1;33m\u001b[0m\u001b[0m\n\u001b[0m\u001b[0;32m      3\u001b[0m \u001b[0mmodel\u001b[0m \u001b[1;33m=\u001b[0m \u001b[0mload_model\u001b[0m\u001b[1;33m(\u001b[0m\u001b[1;34m'model/mnist-cnn-18-0.9926.hdf5'\u001b[0m\u001b[1;33m)\u001b[0m\u001b[1;33m\u001b[0m\u001b[1;33m\u001b[0m\u001b[0m\n",
      "\u001b[1;31mNameError\u001b[0m: name 'model' is not defined"
     ]
    }
   ],
   "source": [
    "from tensorflow.keras.models import load_model\n",
    "\n",
    "model = load_model('model/mnist-cnn-18-0.9926.hdf5')"
   ]
  },
  {
   "cell_type": "code",
   "execution_count": 41,
   "metadata": {},
   "outputs": [
    {
     "ename": "NameError",
     "evalue": "name 'model' is not defined",
     "output_type": "error",
     "traceback": [
      "\u001b[1;31m---------------------------------------------------------------------------\u001b[0m",
      "\u001b[1;31mNameError\u001b[0m                                 Traceback (most recent call last)",
      "\u001b[1;32m<ipython-input-41-a055e97e5dd2>\u001b[0m in \u001b[0;36m<module>\u001b[1;34m\u001b[0m\n\u001b[1;32m----> 1\u001b[1;33m \u001b[0mprint\u001b[0m\u001b[1;33m(\u001b[0m\u001b[1;34m\"\\n Test Accuracy: %.4f\"\u001b[0m \u001b[1;33m%\u001b[0m \u001b[1;33m(\u001b[0m\u001b[0mmodel\u001b[0m\u001b[1;33m.\u001b[0m\u001b[0mevaluate\u001b[0m\u001b[1;33m(\u001b[0m\u001b[0mX_test\u001b[0m\u001b[1;33m,\u001b[0m \u001b[0mY_test\u001b[0m\u001b[1;33m,\u001b[0m \u001b[0mverbose\u001b[0m\u001b[1;33m=\u001b[0m\u001b[1;36m0\u001b[0m\u001b[1;33m)\u001b[0m\u001b[1;33m[\u001b[0m\u001b[1;36m1\u001b[0m\u001b[1;33m]\u001b[0m\u001b[1;33m)\u001b[0m\u001b[1;33m)\u001b[0m\u001b[1;33m\u001b[0m\u001b[1;33m\u001b[0m\u001b[0m\n\u001b[0m",
      "\u001b[1;31mNameError\u001b[0m: name 'model' is not defined"
     ]
    }
   ],
   "source": [
    "print(\"\\n Test Accuracy: %.4f\" % (model.evaluate(X_test, Y_test, verbose=0)[1]))"
   ]
  },
  {
   "cell_type": "code",
   "execution_count": 35,
   "metadata": {},
   "outputs": [],
   "source": [
    "y_vloss = history.history['val_loss']\n",
    "y_loss = history.history['loss']"
   ]
  },
  {
   "cell_type": "code",
   "execution_count": 36,
   "metadata": {},
   "outputs": [
    {
     "data": {
      "image/png": "[encoded data removed]",
      "text/plain": [
       "<Figure size 576x432 with 1 Axes>"
      ]
     },
     "metadata": {
      "needs_background": "light"
     },
     "output_type": "display_data"
    }
   ],
   "source": [
    "x_len = np.arange(1, len(y_loss)+1)\n",
    "plt.figure(figsize=(8,6))\n",
    "plt.plot(x_len, y_vloss, marker='.', c=\"red\", label='Testset_loss')\n",
    "plt.plot(x_len, y_loss, marker='.', c=\"blue\", label='Trainset_loss')\n",
    "plt.legend(loc='upper right')\n",
    "plt.grid()\n",
    "plt.xlabel('epoch')\n",
    "plt.ylabel('loss')\n",
    "plt.show()"
   ]
  },
  {
   "cell_type": "code",
   "execution_count": null,
   "metadata": {},
   "outputs": [],
   "source": []
  },
  {
   "cell_type": "code",
   "execution_count": null,
   "metadata": {},
   "outputs": [],
   "source": []
  },
  {
   "cell_type": "code",
   "execution_count": null,
   "metadata": {},
   "outputs": [],
   "source": []
  },
  {
   "cell_type": "code",
   "execution_count": null,
   "metadata": {},
   "outputs": [],
   "source": []
  },
  {
   "cell_type": "code",
   "execution_count": null,
   "metadata": {},
   "outputs": [],
   "source": []
  },
  {
   "cell_type": "code",
   "execution_count": null,
   "metadata": {},
   "outputs": [],
   "source": []
  },
  {
   "cell_type": "code",
   "execution_count": null,
   "metadata": {},
   "outputs": [],
   "source": []
  },
  {
   "cell_type": "code",
   "execution_count": null,
   "metadata": {},
   "outputs": [],
   "source": []
  }
 ],
 "metadata": {
  "kernelspec": {
   "display_name": "Python 3",
   "language": "python",
   "name": "python3"
  },
  "language_info": {
   "codemirror_mode": {
    "name": "ipython",
    "version": 3
   },
   "file_extension": ".py",
   "mimetype": "text/x-python",
   "name": "python",
   "nbconvert_exporter": "python",
   "pygments_lexer": "ipython3",
   "version": "3.7.7"
  }
 },
 "nbformat": 4,
 "nbformat_minor": 4
}
