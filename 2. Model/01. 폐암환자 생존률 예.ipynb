{
 "cells": [
  {
   "cell_type": "markdown",
   "metadata": {},
   "source": [
    "# 폐암 수술 환자의 생존율 데이터 분석"
   ]
  },
  {
   "cell_type": "code",
   "execution_count": 1,
   "metadata": {},
   "outputs": [
    {
     "data": {
      "text/plain": [
       "'2.1.0'"
      ]
     },
     "execution_count": 1,
     "metadata": {},
     "output_type": "execute_result"
    }
   ],
   "source": [
    "import numpy as np\n",
    "import tensorflow as tf\n",
    "tf.__version__\n"
   ]
  },
  {
   "cell_type": "code",
   "execution_count": 2,
   "metadata": {
    "scrolled": true
   },
   "outputs": [
    {
     "data": {
      "text/plain": [
       "array([[293.  ,   1.  ,   3.8 ,   2.8 ,   0.  ,   0.  ,   0.  ,   0.  ,\n",
       "          0.  ,   0.  ,  12.  ,   0.  ,   0.  ,   0.  ,   1.  ,   0.  ,\n",
       "         62.  ,   0.  ],\n",
       "       [  1.  ,   2.  ,   2.88,   2.16,   1.  ,   0.  ,   0.  ,   0.  ,\n",
       "          1.  ,   1.  ,  14.  ,   0.  ,   0.  ,   0.  ,   1.  ,   0.  ,\n",
       "         60.  ,   0.  ],\n",
       "       [  8.  ,   2.  ,   3.19,   2.5 ,   1.  ,   0.  ,   0.  ,   0.  ,\n",
       "          1.  ,   0.  ,  11.  ,   0.  ,   0.  ,   1.  ,   1.  ,   0.  ,\n",
       "         66.  ,   1.  ]])"
      ]
     },
     "execution_count": 2,
     "metadata": {},
     "output_type": "execute_result"
    }
   ],
   "source": [
    "Data_set = np.loadtxt(\"../dataset/ThoraricSurgery.csv\", delimiter=\",\")\n",
    "Data_set[:3, :]"
   ]
  },
  {
   "cell_type": "code",
   "execution_count": 3,
   "metadata": {},
   "outputs": [
    {
     "data": {
      "text/plain": [
       "((470, 17), (470,))"
      ]
     },
     "execution_count": 3,
     "metadata": {},
     "output_type": "execute_result"
    }
   ],
   "source": [
    "X = Data_set[:, 0:17]\n",
    "\n",
    "Y = Data_set[:,17]\n",
    "X.shape, Y.shape"
   ]
  },
  {
   "cell_type": "code",
   "execution_count": 4,
   "metadata": {},
   "outputs": [],
   "source": [
    "from sklearn.model_selection import train_test_split\n",
    "\n",
    "X_train, X_test, y_train, y_test = train_test_split(X,Y, test_size =0.2,\n",
    "                                                       shuffle=True, stratify=Y, random_state=2019)\n"
   ]
  },
  {
   "cell_type": "code",
   "execution_count": 5,
   "metadata": {},
   "outputs": [
    {
     "name": "stdout",
     "output_type": "stream",
     "text": [
      "Model: \"sequential\"\n",
      "_________________________________________________________________\n",
      "Layer (type)                 Output Shape              Param #   \n",
      "=================================================================\n",
      "dense (Dense)                (None, 30)                540       \n",
      "_________________________________________________________________\n",
      "dense_1 (Dense)              (None, 1)                 31        \n",
      "=================================================================\n",
      "Total params: 571\n",
      "Trainable params: 571\n",
      "Non-trainable params: 0\n",
      "_________________________________________________________________\n"
     ]
    }
   ],
   "source": [
    "from tensorflow.keras.models import Sequential\n",
    "from tensorflow.keras.layers import Dense\n",
    "\n",
    "# 딥러닝 모델 설정\n",
    "model = Sequential([Dense(30, input_shape=(17,), activation='relu'),\n",
    "    Dense(1, activation='sigmoid')\n",
    "])\n",
    "model.summary()"
   ]
  },
  {
   "cell_type": "code",
   "execution_count": 6,
   "metadata": {},
   "outputs": [],
   "source": [
    "# 딥러닝 환경 설정 (오차함수, 최적화함수)\n",
    "model.compile(loss='binary_crossentropy', optimizer='adam', metrics=['accuracy'])"
   ]
  },
  {
   "cell_type": "code",
   "execution_count": 7,
   "metadata": {},
   "outputs": [
    {
     "name": "stdout",
     "output_type": "stream",
     "text": [
      "Train on 300 samples, validate on 76 samples\n",
      "Epoch 1/20\n",
      "300/300 [==============================] - 0s 974us/sample - loss: 3.0604 - accuracy: 0.7200 - val_loss: 0.6615 - val_accuracy: 0.6184\n",
      "Epoch 2/20\n",
      "300/300 [==============================] - 0s 112us/sample - loss: 0.9028 - accuracy: 0.7000 - val_loss: 0.6121 - val_accuracy: 0.5921\n",
      "Epoch 3/20\n",
      "300/300 [==============================] - 0s 94us/sample - loss: 0.6450 - accuracy: 0.7500 - val_loss: 0.1699 - val_accuracy: 0.9474\n",
      "Epoch 4/20\n",
      "300/300 [==============================] - 0s 98us/sample - loss: 0.6101 - accuracy: 0.8067 - val_loss: 0.2552 - val_accuracy: 0.9605\n",
      "Epoch 5/20\n",
      "300/300 [==============================] - 0s 100us/sample - loss: 0.5708 - accuracy: 0.7967 - val_loss: 0.2932 - val_accuracy: 0.9474\n",
      "Epoch 6/20\n",
      "300/300 [==============================] - 0s 101us/sample - loss: 0.5262 - accuracy: 0.7900 - val_loss: 0.3068 - val_accuracy: 0.9474\n",
      "Epoch 7/20\n",
      "300/300 [==============================] - 0s 101us/sample - loss: 0.5596 - accuracy: 0.7933 - val_loss: 0.4670 - val_accuracy: 0.8158\n",
      "Epoch 8/20\n",
      "300/300 [==============================] - 0s 96us/sample - loss: 0.5530 - accuracy: 0.8000 - val_loss: 0.3377 - val_accuracy: 0.9474\n",
      "Epoch 9/20\n",
      "300/300 [==============================] - 0s 100us/sample - loss: 0.5863 - accuracy: 0.8033 - val_loss: 0.2142 - val_accuracy: 0.9474\n",
      "Epoch 10/20\n",
      "300/300 [==============================] - 0s 97us/sample - loss: 0.5929 - accuracy: 0.7600 - val_loss: 0.2151 - val_accuracy: 0.9474\n",
      "Epoch 11/20\n",
      "300/300 [==============================] - 0s 101us/sample - loss: 0.4958 - accuracy: 0.8133 - val_loss: 0.2338 - val_accuracy: 0.9474\n",
      "Epoch 12/20\n",
      "300/300 [==============================] - 0s 108us/sample - loss: 0.4816 - accuracy: 0.8233 - val_loss: 0.2255 - val_accuracy: 0.9474\n",
      "Epoch 13/20\n",
      "300/300 [==============================] - 0s 102us/sample - loss: 0.5026 - accuracy: 0.8100 - val_loss: 0.2536 - val_accuracy: 0.9474\n",
      "Epoch 14/20\n",
      "300/300 [==============================] - 0s 105us/sample - loss: 0.4938 - accuracy: 0.8100 - val_loss: 0.2143 - val_accuracy: 0.9474\n",
      "Epoch 15/20\n",
      "300/300 [==============================] - 0s 103us/sample - loss: 0.5270 - accuracy: 0.7833 - val_loss: 0.2199 - val_accuracy: 0.9474\n",
      "Epoch 16/20\n",
      "300/300 [==============================] - 0s 96us/sample - loss: 0.4971 - accuracy: 0.8067 - val_loss: 0.4230 - val_accuracy: 0.9211\n",
      "Epoch 17/20\n",
      "300/300 [==============================] - 0s 93us/sample - loss: 0.5532 - accuracy: 0.7900 - val_loss: 0.3030 - val_accuracy: 0.9474\n",
      "Epoch 18/20\n",
      "300/300 [==============================] - 0s 101us/sample - loss: 0.4715 - accuracy: 0.8300 - val_loss: 0.2300 - val_accuracy: 0.9474\n",
      "Epoch 19/20\n",
      "300/300 [==============================] - 0s 94us/sample - loss: 0.4751 - accuracy: 0.8200 - val_loss: 0.4354 - val_accuracy: 0.9079\n",
      "Epoch 20/20\n",
      "300/300 [==============================] - 0s 97us/sample - loss: 0.4910 - accuracy: 0.8133 - val_loss: 0.2276 - val_accuracy: 0.9474\n"
     ]
    }
   ],
   "source": [
    "\n",
    "# 딥러닝 실행\n",
    "history = model.fit(X_train, y_train, validation_split = 0.2 ,epochs=20, batch_size=10)"
   ]
  },
  {
   "cell_type": "code",
   "execution_count": 8,
   "metadata": {},
   "outputs": [
    {
     "name": "stdout",
     "output_type": "stream",
     "text": [
      "376/376 - 0s - loss: 0.4074 - accuracy: 0.8511\n",
      "\n",
      " Accuracy: 0.8511\n"
     ]
    }
   ],
   "source": [
    "\n",
    "# 결과 출력\n",
    "# evaluate() returns the loss value & metrics values for the model \n",
    "print(\"\\n Accuracy: %.4f\" % (model.evaluate(X_train, y_train, verbose=2))[1])"
   ]
  },
  {
   "cell_type": "code",
   "execution_count": 9,
   "metadata": {},
   "outputs": [
    {
     "data": {
      "text/plain": [
       "<tensorflow.python.keras.callbacks.History at 0x255a600c4c8>"
      ]
     },
     "execution_count": 9,
     "metadata": {},
     "output_type": "execute_result"
    }
   ],
   "source": [
    "history"
   ]
  },
  {
   "cell_type": "code",
   "execution_count": 10,
   "metadata": {},
   "outputs": [
    {
     "data": {
      "text/html": [
       "<div>\n",
       "<style scoped>\n",
       "    .dataframe tbody tr th:only-of-type {\n",
       "        vertical-align: middle;\n",
       "    }\n",
       "\n",
       "    .dataframe tbody tr th {\n",
       "        vertical-align: top;\n",
       "    }\n",
       "\n",
       "    .dataframe thead th {\n",
       "        text-align: right;\n",
       "    }\n",
       "</style>\n",
       "<table border=\"1\" class=\"dataframe\">\n",
       "  <thead>\n",
       "    <tr style=\"text-align: right;\">\n",
       "      <th></th>\n",
       "      <th>loss</th>\n",
       "      <th>accuracy</th>\n",
       "      <th>val_loss</th>\n",
       "      <th>val_accuracy</th>\n",
       "    </tr>\n",
       "  </thead>\n",
       "  <tbody>\n",
       "    <tr>\n",
       "      <th>0</th>\n",
       "      <td>3.060363</td>\n",
       "      <td>0.720000</td>\n",
       "      <td>0.661457</td>\n",
       "      <td>0.618421</td>\n",
       "    </tr>\n",
       "    <tr>\n",
       "      <th>1</th>\n",
       "      <td>0.902848</td>\n",
       "      <td>0.700000</td>\n",
       "      <td>0.612115</td>\n",
       "      <td>0.592105</td>\n",
       "    </tr>\n",
       "    <tr>\n",
       "      <th>2</th>\n",
       "      <td>0.644996</td>\n",
       "      <td>0.750000</td>\n",
       "      <td>0.169880</td>\n",
       "      <td>0.947368</td>\n",
       "    </tr>\n",
       "    <tr>\n",
       "      <th>3</th>\n",
       "      <td>0.610142</td>\n",
       "      <td>0.806667</td>\n",
       "      <td>0.255213</td>\n",
       "      <td>0.960526</td>\n",
       "    </tr>\n",
       "    <tr>\n",
       "      <th>4</th>\n",
       "      <td>0.570843</td>\n",
       "      <td>0.796667</td>\n",
       "      <td>0.293211</td>\n",
       "      <td>0.947368</td>\n",
       "    </tr>\n",
       "  </tbody>\n",
       "</table>\n",
       "</div>"
      ],
      "text/plain": [
       "       loss  accuracy  val_loss  val_accuracy\n",
       "0  3.060363  0.720000  0.661457      0.618421\n",
       "1  0.902848  0.700000  0.612115      0.592105\n",
       "2  0.644996  0.750000  0.169880      0.947368\n",
       "3  0.610142  0.806667  0.255213      0.960526\n",
       "4  0.570843  0.796667  0.293211      0.947368"
      ]
     },
     "execution_count": 10,
     "metadata": {},
     "output_type": "execute_result"
    }
   ],
   "source": [
    "import pandas as pd\n",
    "df = pd.DataFrame(data=history.history)\n",
    "df.head()"
   ]
  },
  {
   "cell_type": "markdown",
   "metadata": {},
   "source": [
    "# 향후에 아래 항목으로 이용가능\n",
    "- history.history['accuracy']\n",
    "- history.history['val_accuracy']\n",
    "- history.history['loss']\n",
    "- history.history['val_loss']\n"
   ]
  },
  {
   "cell_type": "code",
   "execution_count": null,
   "metadata": {},
   "outputs": [],
   "source": []
  }
 ],
 "metadata": {
  "kernelspec": {
   "display_name": "Python 3",
   "language": "python",
   "name": "python3"
  },
  "language_info": {
   "codemirror_mode": {
    "name": "ipython",
    "version": 3
   },
   "file_extension": ".py",
   "mimetype": "text/x-python",
   "name": "python",
   "nbconvert_exporter": "python",
   "pygments_lexer": "ipython3",
   "version": "3.7.7"
  }
 },
 "nbformat": 4,
 "nbformat_minor": 4
}
